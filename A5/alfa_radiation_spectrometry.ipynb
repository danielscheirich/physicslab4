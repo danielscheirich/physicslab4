{
 "cells": [
  {
   "cell_type": "markdown",
   "metadata": {
    "id": "jM6p5W8H5u_G"
   },
   "source": [
    "# Alpha spectroscopy"
   ]
  },
  {
   "cell_type": "markdown",
   "metadata": {},
   "source": [
    "**IMPORTANT: before starting, you need to run the following cell!**"
   ]
  },
  {
   "cell_type": "code",
   "execution_count": null,
   "metadata": {},
   "outputs": [],
   "source": [
    "!pip install numpy matplotlib scipy pandas uncertainties"
   ]
  },
  {
   "cell_type": "markdown",
   "metadata": {
    "id": "VkxsU1mb5u_K"
   },
   "source": [
    "# Introduction\n",
    "\n",
    "Alpha particles emitted by natural radioactive sources have kinetic energies typically between 4 MeV and 9 MeV.\n",
    "At these energies, they lose energy through ionization of the medium they traverse.\n",
    "\n",
    "#### Specific Ionization Losses:\n",
    "\n",
    "- Energy loss of a charged particle passing through matter per unit path length.\n",
    "- Depends on:\n",
    "  - Properties of the particle: charge, mass, and kinetic energy\n",
    "  - Properties of the medium: density, electron count in atoms, ionization potential of the electrons\n",
    "- Described by the Bethe-Bloch formula:\n",
    "  $$\n",
    "  -\\frac{\\mathrm{d}T}{\\mathrm{d}x} = f(T),\n",
    "  $$\n",
    "  - $T$ is the kinetic energy of the particle\n",
    "  - $x$ is the path length\n",
    "  - $f(T)$ is the stopping power of the medium\n",
    "\n",
    "#### Bragg Curve:\n",
    "\n",
    "- Represents the relationship between specific energy loss and path length for hadrons and nuclei:\n",
    "  $$\n",
    "  -\\frac{\\mathrm{d}T}{\\mathrm{d}x} = f(T) = f(T(x)) = h(x)\n",
    "  $$\n",
    "- $h(x)$ is the Bragg curve\n",
    "- Shows a typical constant ionization, followed by a sharp ionization increase, and ended by a sharp decline.\n",
    "  - The sharp increase is due to the particle's energy loss increasing as it slows down.\n",
    "  - The peak at the end is called the Bragg peak.\n",
    "\n",
    "\n",
    "#### Range of an alpha particle\n",
    "\n",
    "- Total path length of an alpha particle in a medium.\n",
    "  $$\n",
    "  R = \\int_{0}^{R} \\mathrm{d}x = \\int_{T_0}^{0} - \\frac{\\mathrm{d}T}{f(T)} = \\int_{0}^{T_0} \\frac{\\mathrm{d}T}{f(T)}\n",
    "  $$\n",
    "  - $T_0$ is the initial kinetic energy of the alpha particle.\n",
    "- For alpha particles passing through the air, it is approximated by a simple formula:\n",
    "  $$\n",
    "  R = \\xi \\times T_0^{3/2}\n",
    "  $$\n",
    "  - $T_0$ is in MeV\n",
    "  - $\\xi = 0.31~\\mathrm{cm}/\\mathrm{MeV}^{-3/2}$\n",
    "  - $R$ is in cm\n",
    "- From the last two equations, we can express the approximated Bethe-Bloch formula:\n",
    "  $$\n",
    "  f(T) = \\frac{2}{3} \\frac{1}{\\xi \\sqrt{T}}\n",
    "  $$\n",
    "  - $T_0$ is in MeV.\n",
    "  - Valid for alpha particles in air, and for $T_0$ in range 4 MeV to 7 MeV.\n",
    "\n",
    "#### Activity of a radioactive source:\n",
    "\n",
    "- Number of decays per unit time.\n",
    "- Expressed in becquerels (Bq), which is equal to $s^{-1}$.\n",
    "- The activity of a radioactive source is given by:\n",
    "  $$\n",
    "  A = - \\frac{\\mathrm{d}N}{\\mathrm{d}t} = \\lambda N = \\frac{N}{\\tau} = \\frac{N}{T_{1/2} \\ln(2)}\n",
    "  $$\n",
    "  - $A$ is the activity\n",
    "  - $N$ is the number of radioactive atoms in the source\n",
    "  - $\\lambda$ is the decay constant\n",
    "  - $\\tau$ is the lifetime of the radioactive atoms\n",
    "  - $T_{1/2}$ is the half-life of the radioactive atoms\n",
    "\n",
    "#### Measuring Alpha Particles:\n",
    "\n",
    "- Semiconductor detectors (silicon surface barrier detectors) are commonly used.\n",
    "  - Used to detect alpha particles with energies between 20 keV and 200 MeV.\n",
    "- Key detector parameters:\n",
    "  - Energy resolution\n",
    "  - Sensitive area\n",
    "  - Depletion layer thickness. It must be greater than the alpha particle's range in the material.\n",
    "    - For example, an alpha particle with an energy of 5.5 MeV has a range of about 27 $\\mu\\mathrm{m}$ in silicon.\n"
   ]
  },
  {
   "cell_type": "markdown",
   "metadata": {
    "id": "rUdAXNhx5u_M"
   },
   "source": [
    "# Assignment 1\n",
    "*Determine the absolute activity of the radioactive source $^{241}\\mathrm{Am}$*\n",
    "\n",
    "- Definition of Activity:\n",
    "  - The activity $A$ of a radioactive sample is defined as the number of radioactive decays that occur within the sample per unit time.\n",
    "- Measurement Method:\n",
    "  - The sample is placed in a vacuum chamber to isolate it.\n",
    "  - A detector with a known area $S$ is positioned at a distance $l$ from the sample.\n",
    "  - The number of events $N$ detected by the detector is measured over a specific time $t$.\n",
    "- Assumptions:\n",
    "  - The area of the detector $S$ is significantly smaller than the surface of sphere with radius $l$.\n",
    "  - The radioactive source emits radiation isotropically (uniformly in all directions)."
   ]
  },
  {
   "cell_type": "markdown",
   "metadata": {
    "id": "6dL_BsGE5u_M"
   },
   "source": [
    "$\\color{red}{\\textbf{Task:}}$ write the formula for the activity $A$ calculation under the above conditions and assumptions."
   ]
  },
  {
   "cell_type": "markdown",
   "metadata": {
    "id": "oVGma5JO5u_N"
   },
   "source": [
    "$\\color{red}{\\textbf{Solution:}}$\n",
    "\n",
    "$$\n",
    "A = \\frac{4\\pi l^2}{S} \\frac{N}{t}\n",
    "$$\n"
   ]
  },
  {
   "cell_type": "markdown",
   "metadata": {
    "id": "WLt1iY4U5u_N"
   },
   "source": [
    "$\\color{red}{\\textbf{Task:}}$ calculate $A$ and its uncertainty. Take into account the uncertainty in the number of events $N$ and the distance $l$."
   ]
  },
  {
   "cell_type": "code",
   "execution_count": 2,
   "metadata": {
    "colab": {
     "base_uri": "https://localhost:8080/",
     "height": 393
    },
    "id": "16WaEW1N5u_N",
    "outputId": "73917f4c-0b9a-4d7d-878b-706187575e01"
   },
   "outputs": [
    {
     "name": "stdout",
     "output_type": "stream",
     "text": [
      "(1.19+/-0.05)e+04\n"
     ]
    }
   ],
   "source": [
    "# Insert your code here.\n",
    "\n",
    "from uncertainties import ufloat\n",
    "import numpy as np\n",
    "\n",
    "S = ufloat(900, 0)                  # mm^2\n",
    "l = ufloat(44, 1)                   # mm\n",
    "t = ufloat(367, 0)                  # s\n",
    "N = ufloat(161300, np.sqrt(161300)) # counts\n",
    "A = 4 * np.pi * l * l * N / (S * t) # s^{-1}\n",
    "print(A)"
   ]
  },
  {
   "cell_type": "markdown",
   "metadata": {
    "id": "5exKzTNU5u_P"
   },
   "source": [
    "# Assignment 2\n",
    "*Measure the dependence of the ionization losses of alpha particles on air pressure.*"
   ]
  },
  {
   "cell_type": "markdown",
   "metadata": {
    "id": "gZH6n1CX5u_P"
   },
   "source": [
    "$\\color{red}{\\textbf{Task:}}$ measure the data and create `unumpy.uarray` objects for the pressure $p$, number of events $N$, time $t$, and kinetic energy of alpha particles entering the detector $T$."
   ]
  },
  {
   "cell_type": "code",
   "execution_count": null,
   "metadata": {},
   "outputs": [],
   "source": [
    "# If you are running in the Google Colab or you just don't have the input file, yet, execute this cell to download the file with the data.\n",
    "!wget https://raw.githubusercontent.com/vojtechpleskot/physicslab4/main/A5/example_data.xlsx"
   ]
  },
  {
   "cell_type": "code",
   "execution_count": 12,
   "metadata": {
    "id": "8tCqRzo55u_P"
   },
   "outputs": [
    {
     "name": "stdout",
     "output_type": "stream",
     "text": [
      "   p [atm/1000]                      N      t [s]      T [MeV]\n",
      "0       50+/-10    (1.613+/-0.004)e+05  367.0+/-0  5.39+/-0.07\n",
      "1      100+/-10    (6.610+/-0.026)e+04  149.0+/-0  5.20+/-0.07\n",
      "2      200+/-10  (1.0890+/-0.0033)e+05  247.0+/-0  4.82+/-0.08\n",
      "3      300+/-10    (9.880+/-0.031)e+04  223.0+/-0  4.42+/-0.09\n",
      "4      400+/-10    (1.564+/-0.004)e+05  359.0+/-0  4.03+/-0.11\n",
      "5      500+/-10    (9.890+/-0.031)e+04  225.0+/-0  3.58+/-0.14\n",
      "6      600+/-10    (9.000+/-0.030)e+04  208.0+/-0  3.11+/-0.18\n",
      "7      700+/-10  (1.1590+/-0.0034)e+05  265.0+/-0  2.63+/-0.22\n",
      "8      800+/-10  (1.0330+/-0.0032)e+05  234.0+/-0  2.02+/-0.30\n",
      "9      900+/-10    (8.810+/-0.030)e+04  236.0+/-0  1.36+/-0.33\n",
      "10     980+/-10    (2.090+/-0.014)e+04  302.0+/-0  1.05+/-0.22\n"
     ]
    }
   ],
   "source": [
    "# Insert your code here.\n",
    "\n",
    "import pandas as pd\n",
    "from uncertainties import unumpy\n",
    "\n",
    "# The commented code is for reading the data from the excel file.\n",
    "# Make sure you have the file 'example_data.xlsx' in the same directory as this notebook.\n",
    "# If you are running in the Google Colab, use the code cell above to download the file, first.\n",
    "df = pd.read_excel('example_data.xlsx', sheet_name=2, header=2, usecols=\"B:G\", nrows=11)\n",
    "df.columns = ['p', 'N', 't', 'T', 'dT', 'FWHM']\n",
    "df['N'] *= 1000.\n",
    "p = unumpy.uarray(df['p'], 10.)\n",
    "N = unumpy.uarray(df['N'], np.sqrt(df['N']))\n",
    "t = unumpy.uarray(df['t'], 0.)\n",
    "T = unumpy.uarray(df['T'], df['dT'])\n",
    "# print(', '.join(map(str, unumpy.nominal_values(p))))\n",
    "# print(', '.join(map(str, unumpy.nominal_values(N))))\n",
    "# print(', '.join(map(str, unumpy.std_devs(N))))\n",
    "# print(', '.join(map(str, unumpy.nominal_values(t))))\n",
    "# print(', '.join(map(str, unumpy.nominal_values(T))))\n",
    "# print(', '.join(map(str, unumpy.std_devs(T))))\n",
    "\n",
    "# # Insert the measured data to numpy arrays manually.\n",
    "# p = unumpy.uarray([50.0, 100.0, 200.0, 300.0, 400.0, 500.0, 600.0, 700.0, 800.0, 900.0, 980.0], 10.)\n",
    "# N = [161300.0, 66100.0, 108900.0, 98800.0, 156400.0, 98900.0, 90000.0, 115900.0, 103300.0, 88100.0, 20900.0]\n",
    "# N = unumpy.uarray(N, np.sqrt(N))\n",
    "# t = unumpy.uarray([367.0, 149.0, 247.0, 223.0, 359.0, 225.0, 208.0, 265.0, 234.0, 236.0, 302.0], 0.0)\n",
    "# T = unumpy.uarray([5.39, 5.2, 4.82, 4.42, 4.03, 3.58, 3.11, 2.63, 2.02, 1.36, 1.05],\n",
    "#                   [0.07, 0.07, 0.08, 0.09, 0.11, 0.14, 0.18, 0.22, 0.3, 0.33, 0.22])\n",
    "\n",
    "# Kinetic energy at zero pressure. Set in the calibration.\n",
    "T0 = ufloat(5.4857, 0.)\n",
    "\n",
    "# Print the measured values in a table.\n",
    "print(pd.DataFrame(np.stack([p, N, t, T], axis=-1), columns=['p [atm/1000]', 'N', 't [s]', 'T [MeV]']))"
   ]
  },
  {
   "cell_type": "markdown",
   "metadata": {
    "id": "m6E3YuFT5u_Q"
   },
   "source": [
    "$\\color{red}{\\textbf{Task:}}$ plot the total ionization losses $\\Delta T$ and its uncertainty as a function of the air pressure $p$."
   ]
  },
  {
   "cell_type": "code",
   "execution_count": 4,
   "metadata": {
    "id": "Lu0Juv3T5u_Q"
   },
   "outputs": [
    {
     "data": {
      "image/png": "[encoded data removed]",
      "text/plain": [
       "<Figure size 432x288 with 1 Axes>"
      ]
     },
     "metadata": {
      "needs_background": "light"
     },
     "output_type": "display_data"
    }
   ],
   "source": [
    "# Insert your code here.\n",
    "\n",
    "import matplotlib.pyplot as plt\n",
    "\n",
    "delta_T = T0 - T\n",
    "plt.errorbar(unumpy.nominal_values(p), unumpy.nominal_values(delta_T), yerr=unumpy.std_devs(delta_T), xerr=unumpy.std_devs(p),\n",
    "             marker='o', markersize=3, color='black', linestyle='None', label='Data')\n",
    "plt.xlabel(r'$p$ [$\\mathrm{atm} \\times 10^{-3}$]')\n",
    "plt.ylabel(r'$\\Delta T$ [MeV]')\n",
    "plt.legend(loc='upper left')\n",
    "plt.show()"
   ]
  },
  {
   "cell_type": "markdown",
   "metadata": {
    "id": "3KOjO99u5u_Q"
   },
   "source": [
    "$\\color{red}{\\textbf{Task:}}$ calculate the specific ionization losses $f(T)$ and its uncertainty.\n",
    "\n",
    "- Use the numerical derivative to calculate the specific ionization losses.\n",
    "- The relation between the equivalent path length at atmospheric pressure, $x$, and the pressure, $p$, is given by:\n",
    "  $$\n",
    "  x = \\frac{p}{p_0} x_0\n",
    "  $$\n",
    "  - $x_0$ is the distance between the radioactive source and the detector, and $p_0$ stands for the atmospheric pressure.\n",
    "- The numerical derivative is calculated as:\n",
    "  $$\n",
    "  f(T) = - \\frac{\\mathrm{d} T}{\\mathrm{d} x}\\Big|_{\\frac{x_i + x_{i+1}}{2}} \\approx - \\frac{T_{i} - T_{i+1}}{p_{i} - p_{i+1}}\\frac{p_0}{x_0},\n",
    "  $$\n",
    "  where $i$ is the index of the pressure value, and $T_i$ is the measured kinetic energy of the alpha particles at the pressure $p_i$."
   ]
  },
  {
   "cell_type": "code",
   "execution_count": 15,
   "metadata": {
    "id": "je7heWiQ5u_R"
   },
   "outputs": [
    {
     "name": "stdout",
     "output_type": "stream",
     "text": [
      "  p [atm/1000]      T [MeV]    fT [MeV/mm]\n",
      "0       75+/-7  5.29+/-0.05    0.08+/-0.05\n",
      "1      150+/-7  5.01+/-0.05  0.085+/-0.027\n",
      "2      250+/-7  4.62+/-0.06  0.089+/-0.030\n",
      "3      350+/-7  4.22+/-0.07  0.087+/-0.034\n",
      "4      450+/-7  3.81+/-0.09    0.10+/-0.04\n",
      "5      550+/-7  3.34+/-0.11    0.10+/-0.05\n",
      "6      650+/-7  2.87+/-0.14    0.11+/-0.07\n",
      "7      750+/-7  2.33+/-0.19    0.14+/-0.09\n",
      "8      850+/-7  1.69+/-0.22    0.15+/-0.10\n",
      "9      940+/-7  1.21+/-0.20    0.09+/-0.11\n"
     ]
    }
   ],
   "source": [
    "# Insert your code here.\n",
    "\n",
    "# The distance source-detector has been used already.\n",
    "x_0 = l\n",
    "\n",
    "# The last value of the pressure array is the atmospheric pressure\n",
    "p_0 = p[-1]\n",
    "\n",
    "# Arrays needed for the numerical derivative.\n",
    "p_i1 = p[1:]\n",
    "p_i = p[:-1]\n",
    "T_i1 = T[1:]\n",
    "T_i = T[:-1]\n",
    "x_i1 = p_i1 * x_0 / p_0\n",
    "x_i  = p_i  * x_0 / p_0\n",
    "\n",
    "# Numerical derivative.\n",
    "fT = -(T_i - T_i1) / (p_i - p_i1) * p_0 / x_0\n",
    "\n",
    "# Print the values in a table.\n",
    "headers = ['p [atm/1000]', 'T [MeV]', 'fT [MeV/mm]']\n",
    "print(pd.DataFrame(np.stack([(p_i + p_i1)/2, (T_i + T_i1)/2, fT], axis=-1), columns=headers))"
   ]
  },
  {
   "cell_type": "markdown",
   "metadata": {
    "id": "eIImE74o5u_R"
   },
   "source": [
    "$\\color{red}{\\textbf{Task:}}$ plot the specific ionization losses $f(T)$ as a function of the kinetic energy of the alpha particles $T$."
   ]
  },
  {
   "cell_type": "code",
   "execution_count": 6,
   "metadata": {
    "id": "EnohN70_5u_R"
   },
   "outputs": [
    {
     "data": {
      "image/png": "[encoded data removed]",
      "text/plain": [
       "<Figure size 432x288 with 1 Axes>"
      ]
     },
     "metadata": {
      "needs_background": "light"
     },
     "output_type": "display_data"
    }
   ],
   "source": [
    "# Insert your code here.\n",
    "\n",
    "# The specific ionization losses.\n",
    "T_points = (T_i + T_i1) / 2.\n",
    "plt.errorbar(unumpy.nominal_values(T_points), unumpy.nominal_values(fT), yerr=unumpy.std_devs(fT), xerr=unumpy.std_devs(T_points),\n",
    "                marker='o', markersize=3, color='black', linestyle='None', label='Data')\n",
    "\n",
    "# The Bethe-Bloch formula approximation.\n",
    "T_points_fine = np.linspace(T_points[0].nominal_value, T_points[-1].nominal_value, 100)\n",
    "fT_fine = 2. / 3. / (0.31 * 10) / np.sqrt(T_points_fine)\n",
    "plt.plot(T_points_fine, fT_fine, color='red', label='Theory')\n",
    "\n",
    "# Axes labels.\n",
    "plt.xlabel(r'$T$ [MeV]')\n",
    "plt.ylabel(r'$f(T)$ [MeV/mm]')\n",
    "\n",
    "# get the current legend handles and labels\n",
    "handles, labels = plt.gca().get_legend_handles_labels()\n",
    "plt.legend(handles=handles[::-1], labels=labels[::-1])\n",
    "\n",
    "plt.show()"
   ]
  },
  {
   "cell_type": "markdown",
   "metadata": {
    "id": "wbAK8ZPu5u_R"
   },
   "source": [
    "# Assignment 3\n",
    "- There is a plutonium sample containing the isotopes $^{238}\\mathrm{Pu}$ and $^{239}\\mathrm{Pu}$.\n",
    "- Measure the energies of the alpha particles emitted from the sample and compare them with tabulated values.\n",
    "- Determine the relative abundance of the isotope $^{238}\\mathrm{Pu}$ in the sample with an accuracy better than 10\\%.\n",
    "  - The half-lives of the isotopes are $T_{1/2}(^{238}\\text{Pu}) = 87.71$ yr and $T_{1/2}(^{239}\\text{Pu}) = 24.13 \\cdot 10^3$ yr.\n",
    "  - You need to measure activities of the two isotopes composing the sample."
   ]
  },
  {
   "cell_type": "markdown",
   "metadata": {
    "id": "50TwC96S5u_R"
   },
   "source": [
    "$\\color{red}{\\textbf{Task:}}$ derive the formula for the fraction of the isotope $^{238}\\mathrm{Pu}$ atoms in the sample.\n",
    " - Express the fraction as a function of the isotope activities, $A_{238}$ and $A_{239}$, and the isotope half-lives."
   ]
  },
  {
   "cell_type": "markdown",
   "metadata": {
    "id": "lex_whj75u_R"
   },
   "source": [
    "$\\color{red}{\\textbf{Solution:}}$\n",
    "\n",
    "- The activity of the isotopes $^{238}\\mathrm{Pu}$ and $^{239}\\mathrm{Pu}$ are given by:\n",
    "  $$\n",
    "  \\begin{align*}\n",
    "  A_{238} &= \\frac{N_{238}}{T_{1/2}^{238} \\ln(2)} = \\frac{f_{238}N_\\mathrm{tot}}{T_{1/2}^{238} \\ln(2)} \\\\\n",
    "  A_{239} &= \\frac{N_{239}}{T_{1/2}^{239} \\ln(2)} = \\frac{(1-f_{238})N_\\mathrm{tot}}{T_{1/2}^{239} \\ln(2)} \\\\\n",
    "  \\end{align*}\n",
    "  $$\n",
    "  - $N_{238}$ and $N_{239}$ are the number of atoms of the isotopes $^{238}\\mathrm{Pu}$ and $^{239}\\mathrm{Pu}$, respectively.\n",
    "  - $N_\\mathrm{tot}$ is the total number of atoms in the sample.\n",
    "  - $f_{238}$ is the fraction of the isotope $^{238}\\mathrm{Pu}$ atoms in the sample.\n",
    "  - In the second equation, $(1-f_{238})$ is the fraction of the isotope $^{239}\\mathrm{Pu}$ atoms in the sample.\n",
    "- Dividing the two equations, and rearranging the terms, we get:\n",
    "  $$\n",
    "  f_{238} = \\frac{A_{238}}{A_{238} + A_{239} \\frac{T_{1/2}^{239}}{T_{1/2}^{238}}}\n",
    "  $$\n"
   ]
  },
  {
   "cell_type": "markdown",
   "metadata": {
    "id": "4ydSKXKj5u_R"
   },
   "source": [
    "$\\color{red}{\\textbf{Task:}}$ calculate the fraction of the isotope $^{238}\\mathrm{Pu}$ atoms in the sample, given the activities $A_{238}$ and $A_{239}$."
   ]
  },
  {
   "cell_type": "code",
   "execution_count": 7,
   "metadata": {
    "id": "4l3iRz1P5u_S"
   },
   "outputs": [
    {
     "name": "stdout",
     "output_type": "stream",
     "text": [
      "(3.60+/-0.11)e-05\n"
     ]
    }
   ],
   "source": [
    "# Insert your code here.\n",
    "\n",
    "dN_238, dN_239 = 1034, 104304\n",
    "dN_238 = ufloat(dN_238, np.sqrt(dN_238))\n",
    "dN_239 = ufloat(dN_239, np.sqrt(dN_239))\n",
    "dt = ufloat(319, 0)\n",
    "T_238 = ufloat(87.71, 0)\n",
    "T_239 = ufloat(24130, 0)\n",
    "\n",
    "# The activity of the sources.\n",
    "A_238 = dN_238 / dt\n",
    "A_239 = dN_239 / dt\n",
    "\n",
    "# The fraction of the 238Pu.\n",
    "f_238 = A_238 / (A_238 + A_239 * T_239 / T_238)\n",
    "print(f_238)"
   ]
  }
 ],
 "metadata": {
  "colab": {
   "provenance": []
  },
  "kernelspec": {
   "display_name": "Python 3",
   "language": "python",
   "name": "python3"
  },
  "language_info": {
   "codemirror_mode": {
    "name": "ipython",
    "version": 3
   },
   "file_extension": ".py",
   "mimetype": "text/x-python",
   "name": "python",
   "nbconvert_exporter": "python",
   "pygments_lexer": "ipython3",
   "version": "3.10.12"
  }
 },
 "nbformat": 4,
 "nbformat_minor": 4
}
