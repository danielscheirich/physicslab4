{
 "cells": [
  {
   "cell_type": "markdown",
   "metadata": {},
   "source": [
    "$\\color{red}{\\textbf{IMPORTANT}}$ If you don't have all the necessary libraries installed, run the following cell:"
   ]
  },
  {
   "cell_type": "code",
   "execution_count": null,
   "metadata": {},
   "outputs": [],
   "source": [
    "!pip install numpy matplotlib scipy pandas uncertainties"
   ]
  },
  {
   "cell_type": "markdown",
   "metadata": {},
   "source": [
    "$\\color{red}{\\textbf{IMPORTANT}}$ If you don't have all the necessary input files locally, you can download them from GitHub: https://github.com/vojtechpleskot/physicslab4/tree/main/A8 \n",
    "\n",
    "If you are running this notebook on Google Colab or similar environment, you can download the files by running the following cell:"
   ]
  },
  {
   "cell_type": "code",
   "execution_count": null,
   "metadata": {},
   "outputs": [],
   "source": [
    "# Download example data\n",
    "!wget -r -np -nH https://raw.githubusercontent.com/vojtechpleskot/physicslab4/main/A8/example_data/"
   ]
  },
  {
   "cell_type": "markdown",
   "metadata": {},
   "source": [
    "# Beta radiation absorption"
   ]
  },
  {
   "cell_type": "markdown",
   "metadata": {},
   "source": [
    "# Geiger-Mueller counter\n",
    "\n",
    "The Geiger-Mueller (GM) counter is a type of gas detector. It is typically cylindrical, where the cylinder shell forms the cathode, a thin anode wire is stretched across the axis of the cylinder, and the space between the two is filled with a suitable gas mixture (usually a noble gas with a so-called quench admixture). When the GM-detector is exposed to beta-radiation, this radiation ionizes the gas atoms. The released electrons move towards the anode due to the electric field, the cations move much more slowly towards the cathode. At sufficient voltage, the electrical intensity around the thin anode is so large that the electrons accelerated towards it ionize and excite other atoms, resulting in the development of an electrical discharge. This is stopped by a decrease in electrical intensity due to the presence of a space charge consisting of slow cations. The quenching pressure in the gas then prevents the discharge from restarting when the electrical intensity rises again to a sufficient level. The amount of charge transferred and therefore the magnitude of the signal recorded (typically a voltage pulse on the working resistor) is always the same at constant voltage regardless of the energy of the original ionizing particle (but increases steeply with increasing voltage). An important characteristic of the GM-detector is the dependence of the signal frequency on the applied voltage. It appears that after a certain applied voltage is exceeded, there is a sharp increase in frequency, which is due to the electronics setup that only records pulses whose amplitude exceeds a certain threshold. This surge is followed by an almost constant section, typically referred to as a plateau. If we increase the voltage further, spontaneous discharges start to occur and the frequency starts to increase again rapidly, which has a negative effect on the lifetime of the GM-detector gas cartridge. Therefore, never exceed 800 V with a used GM-detector. The operating voltage is usually chosen around the middle of the plate."
   ]
  },
  {
   "cell_type": "markdown",
   "metadata": {},
   "source": [
    "### Characteristics of the GM-detector\n",
    "\n",
    "- Measurements are made with an absorber with an area density of approximately 100 $\\mathrm{mg}\\,\\mathrm{cm}^{-2}$ (i.e. one thicker plate).\n",
    "- Measure the frequency of the signal in the interval 400 V - 800 V in steps of 5 V with a measurement time of 20 s.\n",
    "\n",
    "$\\color{red}{\\textbf{Task:}}$ Plot the dependence of the number of signals on the voltage applied to the GM-detector. In the graph, you can also indicate where the characteristic plate is located and what is the appropriate operating voltage."
   ]
  },
  {
   "cell_type": "code",
   "execution_count": null,
   "metadata": {
    "vscode": {
     "languageId": "plaintext"
    }
   },
   "outputs": [],
   "source": [
    "# Read the table of blank-space-separated values in file example_data/plato.txt to a pandas DataFrame. Start reading on the seventh line of the file. Read just the first and the last columns.\n",
    "\n",
    "import pandas as pd\n",
    "\n",
    "df = pd.read_csv('example_data/plato.txt', sep=' ', skiprows=6, usecols=[0, -1], header=None)"
   ]
  },
  {
   "cell_type": "code",
   "execution_count": null,
   "metadata": {
    "vscode": {
     "languageId": "plaintext"
    }
   },
   "outputs": [],
   "source": []
  },
  {
   "cell_type": "markdown",
   "metadata": {},
   "source": [
    "# Beta radiation and its absorption\n",
    "\n",
    "Beta radiation is made up of electrons emitted in the beta-decays of atomic nuclei:\n",
    "$$\n",
    "^{A}_{Z}\\mathrm{X} \\rightarrow ^{A}_{Z+1}\\mathrm{Y} + e^- + \\bar{\\nu}_e,\n",
    "$$\n",
    "where X and Y denote the parent and daughter nuclei, $e^-$ and $\\bar{\\nu}_e$ the electron and its antineutrino. Since this is a three-particle decay, the kinetic energy of these particles depends not only on their masses but also on the angles at which they fly out from each other. The energy of the emitted electrons thus forms a continuous spectrum from zero to a certain maximum value, which typically ranges from tens of keV to units of MeV depending on the decaying isotope X (parent nucleus). Electrons emitted in beta-decay interact mainly by excitation or ionization of the atomic envelope or by elastic collisions with atomic nuclei. This gradually slows down and changes the direction of flight, so that some of them no longer reach the detector - this loss is called absorption. The absorption curve is then defined as the dependence of the number of electrons passing through the absorber on the thickness of the absorber. The shape of this curve for monoenergetic electrons is not exponential, unlike to photons. If we then take into account the fact that the beta-decay electrons have a continuous spectrum, not monoenergetic, we obtain an absorption curve whose shape can be approximated by an exponential function (this is a non-trivial fact that we will not discuss here):\n",
    "$$\n",
    "N(d) = N(0) e^{-\\mu(E_0) d},\n",
    "$$\n",
    "where $N(d)$ denotes the number of electrons passing through an absorber of area density $d$. The quantity $\\mu$ represents the absorption coefficient, the value of which depends on the maximum observed beta-decay energy $E_0$ and the absorber material. An empirical relation exists for the aluminium used here:\n",
    "$$\n",
    "\\mu[g^{-1} \\text{cm}^2] = 17(E_0[\\text{MeV}])^{-1.43},\n",
    "$$\n",
    "to which one must substitute in the units indicated. The emitter used, $^{90}\\mathrm{Sr}$, decays in a cascade of two successive beta-decays:\n",
    "$$\n",
    "^{90}_{38}\\text{Sr} \\rightarrow ^{90}_{39}\\text{Y} \\rightarrow ^{90}_{40}\\text{Zr},\n",
    "$$\n",
    "where the maximum energies of the electrons emitted in each step of the cascade $E_{0_1}$, $E_{0_2}$ are different. The corresponding absorption curve is thus given by the sum of two exponential functions:\n",
    "$$\n",
    "N(d) = N(1)(0) e^{-\\mu(E_{0_1}) d} + N(2)(0) e^{-\\mu(E_{0_2}) d} + N_B,\n",
    "$$\n",
    "where we have also added a constant term $N_B$, which corresponds to background signals whose frequency does not depend or only weakly depends on the thickness of the absorber. The maximum beta decay energy can also be obtained from the maximum electron range $R_{\\beta}$ (in units of areal density), i.e. the thickness of the absorber through which electrons from a given decay no longer pass, using empirical relations valid for different intervals of maximum energies:\n",
    "$$\n",
    "R_{\\beta}[g\\text{cm}^{-2}] = \\begin{cases}\n",
    "0.407 \\times (E_0[\\text{MeV}])^{1.38} & 0.15 \\text{MeV} < E_0 \\leq 0.8 \\text{MeV} \\\\\n",
    "0.542 \\times (E_0[\\text{MeV}]) -0.133 & E_0 > 0.8 \\text{MeV},\n",
    "\\end{cases}\n",
    "$$\n",
    "to which it is necessary to substitute in the indicated units."
   ]
  }
 ],
 "metadata": {
  "language_info": {
   "name": "python"
  }
 },
 "nbformat": 4,
 "nbformat_minor": 2
}
