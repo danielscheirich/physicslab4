{
 "cells": [
  {
   "cell_type": "markdown",
   "metadata": {},
   "source": [
    "$\\color{red}{\\textbf{IMPORTANT}}$ If you don't have all the necessary libraries installed, run the following cell:"
   ]
  },
  {
   "cell_type": "code",
   "execution_count": 1,
   "metadata": {},
   "outputs": [
    {
     "name": "stdout",
     "output_type": "stream",
     "text": [
      "Defaulting to user installation because normal site-packages is not writeable\n",
      "Requirement already satisfied: numpy in /home/pleskot/.local/lib/python3.10/site-packages (2.0.2)\n",
      "Requirement already satisfied: matplotlib in /home/pleskot/.local/lib/python3.10/site-packages (3.9.2)\n",
      "Requirement already satisfied: scipy in /home/pleskot/.local/lib/python3.10/site-packages (1.14.1)\n",
      "Requirement already satisfied: pandas in /home/pleskot/.local/lib/python3.10/site-packages (2.2.3)\n",
      "Requirement already satisfied: uncertainties in /home/pleskot/.local/lib/python3.10/site-packages (3.2.2)\n",
      "Requirement already satisfied: pillow>=8 in /usr/lib/python3/dist-packages (from matplotlib) (9.0.1)\n",
      "Requirement already satisfied: pyparsing>=2.3.1 in /usr/lib/python3/dist-packages (from matplotlib) (2.4.7)\n",
      "Requirement already satisfied: cycler>=0.10 in /home/pleskot/.local/lib/python3.10/site-packages (from matplotlib) (0.12.1)\n",
      "Requirement already satisfied: packaging>=20.0 in /home/pleskot/.local/lib/python3.10/site-packages (from matplotlib) (24.1)\n",
      "Requirement already satisfied: python-dateutil>=2.7 in /home/pleskot/.local/lib/python3.10/site-packages (from matplotlib) (2.9.0.post0)\n",
      "Requirement already satisfied: kiwisolver>=1.3.1 in /home/pleskot/.local/lib/python3.10/site-packages (from matplotlib) (1.4.8)\n",
      "Requirement already satisfied: fonttools>=4.22.0 in /home/pleskot/.local/lib/python3.10/site-packages (from matplotlib) (4.55.0)\n",
      "Requirement already satisfied: contourpy>=1.0.1 in /home/pleskot/.local/lib/python3.10/site-packages (from matplotlib) (1.3.1)\n",
      "Requirement already satisfied: tzdata>=2022.7 in /home/pleskot/.local/lib/python3.10/site-packages (from pandas) (2024.2)\n",
      "Requirement already satisfied: pytz>=2020.1 in /usr/lib/python3/dist-packages (from pandas) (2022.1)\n",
      "Requirement already satisfied: six>=1.5 in /usr/lib/python3/dist-packages (from python-dateutil>=2.7->matplotlib) (1.16.0)\n"
     ]
    }
   ],
   "source": [
    "!pip install numpy matplotlib scipy pandas uncertainties"
   ]
  },
  {
   "cell_type": "markdown",
   "metadata": {},
   "source": [
    "$\\color{red}{\\textbf{IMPORTANT}}$ If you don't have all the necessary input files locally, you can download them from GitHub: https://github.com/vojtechpleskot/physicslab4/tree/main/A8/example_data \n",
    "\n",
    "If you are running this notebook on Google Colab or similar environment, you can download the files by running the following cell:"
   ]
  },
  {
   "cell_type": "code",
   "execution_count": 2,
   "metadata": {},
   "outputs": [
    {
     "name": "stdout",
     "output_type": "stream",
     "text": [
      "--2025-09-08 22:53:50--  https://github.com/vojtechpleskot/physicslab4/tree/main/A8/example_data/instructions.txt\n",
      "Resolving github.com (github.com)... 140.82.121.4\n",
      "Connecting to github.com (github.com)|140.82.121.4|:443... connected.\n",
      "HTTP request sent, awaiting response... 301 Moved Permanently\n",
      "Location: https://github.com/vojtechpleskot/physicslab4/blob/main/A8/example_data/instructions.txt [following]\n",
      "--2025-09-08 22:53:50--  https://github.com/vojtechpleskot/physicslab4/blob/main/A8/example_data/instructions.txt\n",
      "Reusing existing connection to github.com:443.\n",
      "HTTP request sent, awaiting response... 200 OK\n",
      "Length: unspecified [text/html]\n",
      "Saving to: ‘example_data/instructions.txt.5’\n",
      "\n",
      "instructions.txt.5      [  <=>               ] 184,08K   709KB/s    in 0,3s    \n",
      "\n",
      "2025-09-08 22:53:51 (709 KB/s) - ‘example_data/instructions.txt.5’ saved [188498]\n",
      "\n",
      "--2025-09-08 22:53:51--  https://github.com/vojtechpleskot/physicslab4/tree/main/A8/example_data/plato.txt\n",
      "Resolving github.com (github.com)... 140.82.121.4\n",
      "Connecting to github.com (github.com)|140.82.121.4|:443... connected.\n",
      "HTTP request sent, awaiting response... 301 Moved Permanently\n",
      "Location: https://github.com/vojtechpleskot/physicslab4/blob/main/A8/example_data/plato.txt [following]\n",
      "--2025-09-08 22:53:51--  https://github.com/vojtechpleskot/physicslab4/blob/main/A8/example_data/plato.txt\n",
      "Reusing existing connection to github.com:443.\n",
      "HTTP request sent, awaiting response... 200 OK\n",
      "Length: unspecified [text/html]\n",
      "Saving to: ‘example_data/plato.txt.5’\n",
      "\n",
      "plato.txt.5             [ <=>                ] 185,57K  --.-KB/s    in 0,1s    \n",
      "\n",
      "2025-09-08 22:53:52 (1,33 MB/s) - ‘example_data/plato.txt.5’ saved [190026]\n",
      "\n",
      "--2025-09-08 22:53:52--  https://github.com/vojtechpleskot/physicslab4/tree/main/A8/example_data/absorption.txt\n",
      "Resolving github.com (github.com)... 140.82.121.4\n",
      "Connecting to github.com (github.com)|140.82.121.4|:443... connected.\n",
      "HTTP request sent, awaiting response... 301 Moved Permanently\n",
      "Location: https://github.com/vojtechpleskot/physicslab4/blob/main/A8/example_data/absorption.txt [following]\n",
      "--2025-09-08 22:53:53--  https://github.com/vojtechpleskot/physicslab4/blob/main/A8/example_data/absorption.txt\n",
      "Reusing existing connection to github.com:443.\n",
      "HTTP request sent, awaiting response... 200 OK\n",
      "Length: unspecified [text/html]\n",
      "Saving to: ‘example_data/absorption.txt.5’\n",
      "\n",
      "absorption.txt.5        [ <=>                ] 183,71K  --.-KB/s    in 0,1s    \n",
      "\n",
      "2025-09-08 22:53:53 (1,30 MB/s) - ‘example_data/absorption.txt.5’ saved [188121]\n",
      "\n",
      "--2025-09-08 22:53:54--  https://github.com/vojtechpleskot/physicslab4/tree/main/A8/example_data/poisson.txt\n",
      "Resolving github.com (github.com)... 140.82.121.4\n",
      "Connecting to github.com (github.com)|140.82.121.4|:443... connected.\n",
      "HTTP request sent, awaiting response... 301 Moved Permanently\n",
      "Location: https://github.com/vojtechpleskot/physicslab4/blob/main/A8/example_data/poisson.txt [following]\n",
      "--2025-09-08 22:53:54--  https://github.com/vojtechpleskot/physicslab4/blob/main/A8/example_data/poisson.txt\n",
      "Reusing existing connection to github.com:443.\n",
      "HTTP request sent, awaiting response... 200 OK\n",
      "Length: unspecified [text/html]\n",
      "Saving to: ‘example_data/poisson.txt.5’\n",
      "\n",
      "poisson.txt.5           [ <=>                ] 194,40K  --.-KB/s    in 0,1s    \n",
      "\n",
      "2025-09-08 22:53:55 (1,36 MB/s) - ‘example_data/poisson.txt.5’ saved [199069]\n",
      "\n"
     ]
    }
   ],
   "source": [
    "# Download example data\n",
    "# create a folder called example_data if it does not exist, yet\n",
    "!mkdir -p example_data\n",
    "!wget -P example_data https://github.com/vojtechpleskot/physicslab4/tree/main/A8/example_data/instructions.txt\n",
    "!wget -P example_data https://github.com/vojtechpleskot/physicslab4/tree/main/A8/example_data/plato.txt\n",
    "!wget -P example_data https://github.com/vojtechpleskot/physicslab4/tree/main/A8/example_data/absorption.txt\n",
    "!wget -P example_data https://github.com/vojtechpleskot/physicslab4/tree/main/A8/example_data/poisson.txt"
   ]
  },
  {
   "cell_type": "markdown",
   "metadata": {},
   "source": [
    "# Beta radiation absorption"
   ]
  },
  {
   "cell_type": "markdown",
   "metadata": {},
   "source": [
    "# Geiger-Mueller counter\n",
    "\n",
    "The Geiger-Mueller (GM) counter is a type of gas detector. It is typically cylindrical, where the cylinder shell forms the cathode, a thin anode wire is stretched across the axis of the cylinder, and the space between the two is filled with a suitable gas mixture (usually a noble gas with a so-called quench admixture). When the GM-detector is exposed to beta-radiation, this radiation ionizes the gas atoms. The released electrons move towards the anode due to the electric field, the cations move much more slowly towards the cathode. At sufficient voltage, the electrical intensity around the thin anode is so large that the electrons accelerated towards it ionize and excite other atoms, resulting in the development of an electrical discharge. This is stopped by a decrease in electrical intensity due to the presence of a space charge consisting of slow cations. The quenching pressure in the gas then prevents the discharge from restarting when the electrical intensity rises again to a sufficient level. The amount of charge transferred and therefore the magnitude of the signal recorded (typically a voltage pulse on the working resistor) is always the same at constant voltage regardless of the energy of the original ionizing particle (but increases steeply with increasing voltage). An important characteristic of the GM-detector is the dependence of the signal count rate on the applied voltage. It appears that after a certain applied voltage is exceeded, there is a sharp increase in the count rate, which is due to the electronics setup that only records pulses whose amplitude exceeds a certain threshold. This surge is followed by an almost constant section, typically referred to as a plateau. If we increase the voltage further, spontaneous discharges start to occur and the count rate starts to increase again rapidly, which has a negative effect on the lifetime of the GM-detector gas cartridge. Therefore, never exceed 800 V with the currently used GM-detector. The operating voltage is usually chosen around the middle of the plateau."
   ]
  },
  {
   "cell_type": "markdown",
   "metadata": {},
   "source": [
    "$\\color{red}{\\textbf{Task:}}$ Measure the characteristics of the GM-detector.\n",
    "\n",
    "- Use an absorber with an area density of approximately 100 $\\mathrm{mg}\\,\\mathrm{cm}^{-2}$ (i.e. one thicker plate).\n",
    "- Measure the number of signal events in the interval 400 V - 800 V in steps of 5 V with a measurement time of 20 s."
   ]
  },
  {
   "cell_type": "code",
   "execution_count": 3,
   "metadata": {},
   "outputs": [],
   "source": [
    "# Insert your data here. Store it in a pandas DataFrame with two columns: 'U' (for the applied voltage) and 'N' (for the number of events).\n",
    "\n",
    "# For testing: read the table of blank-space-separated values in file example_data/plato.txt to a pandas DataFrame. Start reading on the seventh line of the file. Read just the first and the fifth columns.\n",
    "\n",
    "import pandas as pd\n",
    "import matplotlib.pyplot as plt\n",
    "\n",
    "df = pd.read_csv('example_data/plato.txt', sep='\\s+', skiprows=6, usecols=[0, 4], header=None)\n",
    "df.columns = ['U', 'N']"
   ]
  },
  {
   "cell_type": "markdown",
   "metadata": {},
   "source": [
    "$\\color{red}{\\textbf{Task:}}$ Plot the dependence of the number of signals on the voltage applied to the GM-detector. In the graph, you can also indicate where the plateau of the characteristic is located and what is the appropriate operating voltage."
   ]
  },
  {
   "cell_type": "code",
   "execution_count": 4,
   "metadata": {},
   "outputs": [
    {
     "data": {
      "image/png": "[encoded data removed]",
      "text/plain": [
       "<Figure size 432x288 with 1 Axes>"
      ]
     },
     "metadata": {
      "needs_background": "light"
     },
     "output_type": "display_data"
    },
    {
     "data": {
      "image/png": "[encoded data removed]",
      "text/plain": [
       "<Figure size 432x288 with 1 Axes>"
      ]
     },
     "metadata": {
      "needs_background": "light"
     },
     "output_type": "display_data"
    }
   ],
   "source": [
    "# Insert your code here.\n",
    "\n",
    "# Plot the data in the DataFrame. Use the first column as the x-axis and the second column as the y-axis.\n",
    "def plot_data(df):\n",
    "    plt.plot(df['U'], df['N'])\n",
    "    plt.xlabel('U [V]')\n",
    "    plt.ylabel('N')\n",
    "    return\n",
    "\n",
    "plot_data(df)\n",
    "plt.show()\n",
    "\n",
    "# Identify the plateau region of the data. Display the plateau region with two vertical lines in the plot.\n",
    "# The plateau region is the region where the counts are approximately constant. In the plot, the plateau region should be displayed with two vertical red lines.\n",
    "# The region is to be identified manually by looking at the plot.\n",
    "plot_data(df)\n",
    "plt.axvline(x=500, color='r')\n",
    "plt.axvline(x=750, color='r')\n",
    "plt.show()"
   ]
  },
  {
   "cell_type": "markdown",
   "metadata": {},
   "source": [
    "# Beta radiation and its absorption\n",
    "\n",
    "Beta radiation is made up of electrons emitted in the beta-decays of atomic nuclei:\n",
    "$$\n",
    "^{A}_{Z}\\mathrm{X} \\rightarrow ^{A}_{Z+1}\\mathrm{Y} + e^- + \\bar{\\nu}_e,\n",
    "$$\n",
    "where X and Y denote the parent and daughter nuclei, $e^-$ and $\\bar{\\nu}_e$ the electron and its antineutrino. Since this is a three-particle decay, the kinetic energy of these particles depends not only on their masses but also on the angles at which they fly out from each other. The energy of the emitted electrons thus forms a continuous spectrum from zero to a certain maximum value, which typically ranges from tens of keV to units of MeV depending on the decaying isotope X (parent nucleus). Electrons emitted in beta-decay interact mainly by excitation or ionization of the atomic envelope or by elastic collisions with atomic nuclei. This gradually slows them down and changes the direction of their flight, so that some of them no longer reach the detector - this loss is called absorption. The absorption curve is then defined as the dependence of the number of electrons passing through the absorber on the thickness of the absorber. The shape of this curve for monoenergetic electrons is not exponential, unlike to photons, but if we then take into account the fact that the beta-decay electrons have a continuous spectrum, not monoenergetic, we obtain an absorption curve whose shape can be approximated by an exponential function (this is a non-trivial fact that we will not discuss here):\n",
    "$$\n",
    "N(d) = N(0) e^{-\\mu(E_0) d},\n",
    "$$\n",
    "where $N(d)$ denotes the number of electrons passing through an absorber of area density $d$. The quantity $\\mu$ represents the absorption coefficient, the value of which depends on the maximum observed beta-decay energy $E_0$ and the absorber material. The emitter used, $^{90}\\mathrm{Sr}$, decays in a cascade of two successive beta-decays:\n",
    "$$\n",
    "^{90}_{38}\\mathrm{Sr} \\rightarrow ^{90}_{39}\\mathrm{Y} \\rightarrow ^{90}_{40}\\mathrm{Zr},\n",
    "$$\n",
    "where the maximum energies of the electrons emitted in each step of the cascade $E_{0}^{1}$, $E_{0}^{2}$ are different. The corresponding absorption curve is thus given by the sum of two exponential functions:\n",
    "$$\n",
    "N(d) = N^{1}(0) e^{-\\mu(E_{0}^{1}) d} + N^{2}(0) e^{-\\mu(E_{0}^{2}) d} + N_\\mathrm{B},\n",
    "$$\n",
    "where we have also added a constant term $N_B$, which corresponds to background signals whose frequency does not depend or only weakly depends on the thickness of the absorber. "
   ]
  },
  {
   "cell_type": "markdown",
   "metadata": {},
   "source": [
    "$\\color{red}{\\textbf{Task:}}$ Measure the absorption curve of beta radiation emitted by $^{90}\\mathrm{Sr}$ using a GM-detector. \n",
    "\n",
    "- The measurement is performed with a GM-detector at a voltage in the plateau region.\n",
    "- The measurement time is set to 100 s for each absorber thickness.\n",
    "- The aluminium plates are added between the source and the detector gradually from the thinnest to the thickest. In this way, an interval of areal densities from 0 to about $1100\\ \\mathrm{mg}\\,\\mathrm{cm}^{-2}$ is covered.\n",
    "  - After all the aluminium plates have been added, one more measurement with the lead plate is done."
   ]
  },
  {
   "cell_type": "code",
   "execution_count": 5,
   "metadata": {},
   "outputs": [
    {
     "name": "stdout",
     "output_type": "stream",
     "text": [
      "    d [g/cm^2]        N       N_unc\n",
      "0       0.0000  13556.0  116.430237\n",
      "1       0.0097  10336.0  101.666120\n",
      "2       0.0195   8466.0   92.010869\n",
      "3       0.0293   6906.0   83.102347\n",
      "4       0.0390   6176.0   78.587531\n",
      "5       0.0487   5256.0   72.498276\n",
      "6       0.0586   4865.0   69.749552\n",
      "7       0.0689   4264.0   65.299311\n",
      "8       0.0791   3872.0   62.225397\n",
      "9       0.0896   3562.0   59.682493\n",
      "10      0.1002   3257.0   57.070132\n",
      "11      0.1112   3071.0   55.416604\n",
      "12      0.1225   2812.0   53.028294\n",
      "13      0.1410   2321.0   48.176758\n",
      "14      0.2810   1037.0   32.202484\n",
      "15      0.4150    496.0   22.271057\n",
      "16      0.5520    240.0   15.491933\n",
      "17      0.6931    159.0   12.609520\n",
      "18      0.8301    117.0   10.816654\n",
      "19      0.9616    119.0   10.908712\n",
      "20      1.0954    101.0   10.049876\n"
     ]
    }
   ],
   "source": [
    "# Insert your measured data into a DataFrame whose columns are named 'd' (for the absorber thickness), 'N' (for the number of events), and 'N_unc' (for the uncertainty on N).\n",
    "# Convert d to g / cm^2.\n",
    "# Add a column 'N_unc' to the DataFrame that contains the uncertainty on N.\n",
    "\n",
    "# For testing: the example data from the file example_data/absorption.txt are read.\n",
    "\n",
    "df = pd.read_csv('example_data/absorption.txt', sep='\\s+', skiprows=1, usecols=[1, 2], header=None)\n",
    "# remove the last row\n",
    "df = df[:-1]\n",
    "# name the columns\n",
    "df.columns = ['d', 'N']\n",
    "# cast the columns to float\n",
    "df['d'] = df['d'].astype(float) / 1000.\n",
    "df['N'] = df['N'].astype(float)\n",
    "# calculate the uncertainty on N\n",
    "df['N_unc'] = df['N']**0.5\n",
    "print(df.rename(columns={'d': 'd [g/cm^2]', 'N': 'N', 'N_unc': 'N_unc'}))"
   ]
  },
  {
   "cell_type": "markdown",
   "metadata": {},
   "source": [
    "$\\color{red}{\\textbf{Task:}}$ Plot the measured points and fit them to get the absorption curve."
   ]
  },
  {
   "cell_type": "code",
   "execution_count": 6,
   "metadata": {},
   "outputs": [],
   "source": [
    "import matplotlib.pyplot as plt\n",
    "import matplotlib as mpl\n",
    "\n",
    "def plot(x, y, y_err, x_fit, y_fit, y_fit_lower, y_fit_upper, xlabel, ylabel):\n",
    "\n",
    "    # draw x, y with error bars\n",
    "    plt.errorbar(x, y, y_err, fmt='o', label='Data', color='black')\n",
    "\n",
    "    # draw the fit function and its uncertainty band\n",
    "    plt.fill_between(x_fit, y_fit_lower, y_fit_upper, color='red', alpha=0.3)\n",
    "\n",
    "    # create a legend entry for the fit function and its uncertainty band\n",
    "    line_with_band = mpl.lines.Line2D([], [], color='red', label='Fit', linestyle='-', linewidth=2)\n",
    "    band = mpl.patches.Patch(color='red', alpha=0.3, label='Fit uncertainty')\n",
    "\n",
    "    # get the current legend handles and labels\n",
    "    handles, labels = plt.gca().get_legend_handles_labels()\n",
    "    plt.legend(handles=handles + [(line_with_band, band)], labels=labels + ['Fit'])\n",
    "\n",
    "    # finally, plot\n",
    "    plt.plot(x_fit, y_fit, 'r-')\n",
    "    plt.xlabel(xlabel)\n",
    "    plt.ylabel(ylabel)\n",
    "    plt.show()\n",
    "\n",
    "    return"
   ]
  },
  {
   "cell_type": "code",
   "execution_count": 7,
   "metadata": {},
   "outputs": [
    {
     "data": {
      "image/png": "[encoded data removed]",
      "text/plain": [
       "<Figure size 432x288 with 1 Axes>"
      ]
     },
     "metadata": {
      "needs_background": "light"
     },
     "output_type": "display_data"
    },
    {
     "data": {
      "text/latex": [
       "$\\mu_{E^1_0} = 6.75+/-0.14~\\mathrm{g}^{-1}\\ \\mathrm{cm}^2$"
      ],
      "text/plain": [
       "<IPython.core.display.Latex object>"
      ]
     },
     "metadata": {},
     "output_type": "display_data"
    },
    {
     "data": {
      "text/latex": [
       "$\\mu_{E^2_0} = 45.0+/-1.6~\\mathrm{g}^{-1}\\ \\mathrm{cm}^2$"
      ],
      "text/plain": [
       "<IPython.core.display.Latex object>"
      ]
     },
     "metadata": {},
     "output_type": "display_data"
    },
    {
     "data": {
      "text/latex": [
       "$N_\\mathrm{B} = 101+/-6$"
      ],
      "text/plain": [
       "<IPython.core.display.Latex object>"
      ]
     },
     "metadata": {},
     "output_type": "display_data"
    }
   ],
   "source": [
    "# Insert your code here.\n",
    "\n",
    "from IPython.display import display, Latex\n",
    "import uncertainties\n",
    "from uncertainties import unumpy\n",
    "import numpy as np\n",
    "from scipy.optimize import curve_fit\n",
    "\n",
    "# Define the absorption function\n",
    "def absorption_curve(d, N_1, mu_E1, N_2, mu_E2, N_B):\n",
    "    return N_1 * np.exp(-mu_E1 * d) + N_2 * np.exp(-mu_E2 * d) + N_B\n",
    "\n",
    "# fit the resolution function to the data\n",
    "nom, cov = curve_fit(absorption_curve, df['d'], df['N'], sigma=df['N_unc'], absolute_sigma=True)\n",
    "\n",
    "# to draw the fit function and its uncertainty band, we need to evaluate the fit function at many points\n",
    "x = np.linspace(df['d'].min(), df['d'].max(), 100)\n",
    "N_1, mu_E1, N_2, mu_E2, N_B = uncertainties.correlated_values(nom, cov)\n",
    "wrapped_absorption = uncertainties.wrap(absorption_curve)\n",
    "y_fit_list = [wrapped_absorption(x, N_1, mu_E1, N_2, mu_E2, N_B) for x in x]\n",
    "y_fit     = np.array([y.nominal_value for y in y_fit_list])\n",
    "sigma_fit = np.array([y.std_dev       for y in y_fit_list])\n",
    "\n",
    "# plot the data and the fit function with its uncertainty band\n",
    "plot(df['d'], df['N'], df['N_unc'], x, y_fit, y_fit - sigma_fit, y_fit + sigma_fit, '$d$ [g $\\mathrm{cm}^{-2}$]', '$N$')\n",
    "\n",
    "# print the fit parameters\n",
    "display(Latex(f'$\\mu_{{E^1_0}} = {mu_E1}~\\mathrm{{g}}^{{-1}}\\ \\mathrm{{cm}}^2$'))\n",
    "display(Latex(f'$\\mu_{{E^2_0}} = {mu_E2}~\\mathrm{{g}}^{{-1}}\\ \\mathrm{{cm}}^2$'))\n",
    "display(Latex(f'$N_\\mathrm{{B}} = {N_B}$'))"
   ]
  },
  {
   "cell_type": "markdown",
   "metadata": {},
   "source": [
    "$\\color{red}{\\textbf{Task:}}$ Compare how the fitted parameter $N_\\mathrm{B}$ (dis)agrees with the value measured with the thick absorber, and discuss why."
   ]
  },
  {
   "cell_type": "markdown",
   "metadata": {},
   "source": [
    "$\\color{red}{\\textbf{Solution:}}$ "
   ]
  },
  {
   "cell_type": "markdown",
   "metadata": {},
   "source": [
    "$\\color{red}{\\textbf{Task:}}$ Calculate the maximum energy of the electrons emitted in the beta-decay of $^{90}\\mathrm{Sr}$. An empirical relation between $\\mu$ and $E_0$ exists for the aluminium used here:\n",
    "$$\n",
    "\\mu[g^{-1} \\mathrm{cm}^2] = 17(E_0[\\mathrm{MeV}])^{-1.43},\n",
    "$$\n",
    "to which one must substitute in the indicated units."
   ]
  },
  {
   "cell_type": "code",
   "execution_count": 8,
   "metadata": {},
   "outputs": [
    {
     "data": {
      "text/latex": [
       "$E_{0}^{1} = 1.908+/-0.029\\ \\mathrm{MeV}$"
      ],
      "text/plain": [
       "<IPython.core.display.Latex object>"
      ]
     },
     "metadata": {},
     "output_type": "display_data"
    },
    {
     "data": {
      "text/latex": [
       "$E_{0}^{2} = 0.506+/-0.012\\ \\mathrm{MeV}$"
      ],
      "text/plain": [
       "<IPython.core.display.Latex object>"
      ]
     },
     "metadata": {},
     "output_type": "display_data"
    }
   ],
   "source": [
    "# Insert your code here.\n",
    "\n",
    "# calculate E_0 and its uncertainty for the two decays\n",
    "E_1 = (17 / mu_E1) ** (1 / 1.43)\n",
    "E_2 = (17 / mu_E2) ** (1 / 1.43)\n",
    "display(Latex(f'$E_{{0}}^{{1}} = {E_1}\\ \\mathrm{{MeV}}$'))\n",
    "display(Latex(f'$E_{{0}}^{{2}} = {E_2}\\ \\mathrm{{MeV}}$'))\n"
   ]
  },
  {
   "cell_type": "markdown",
   "metadata": {},
   "source": [
    "# Electron range\n",
    "\n",
    "The electron range for a given maximum energy, $R_\\beta(E_0)$, can be roughly estimated as the thickness at which the number of electrons passing through the absorber is so low that it is statistically indistinguishable from the background. I.e. let's estimate it as the thickness at which the number of punch-through electrons is equal to the uncertainty on $N_\\mathrm{B}$."
   ]
  },
  {
   "cell_type": "markdown",
   "metadata": {},
   "source": [
    "$\\color{red}{\\textbf{Task:}}$ Estimate $R_\\beta$ for both maximum electron energies from the $^{90}\\mathrm{Sr}$ decay chain."
   ]
  },
  {
   "cell_type": "code",
   "execution_count": 9,
   "metadata": {},
   "outputs": [
    {
     "data": {
      "text/latex": [
       "$R^1_{\\beta} = 1.020+/-0.019\\ \\mathrm{g}\\,\\mathrm{cm}^{-2}$"
      ],
      "text/plain": [
       "<IPython.core.display.Latex object>"
      ]
     },
     "metadata": {},
     "output_type": "display_data"
    },
    {
     "data": {
      "text/latex": [
       "$R^2_{\\beta} = 0.157+/-0.006\\ \\mathrm{g}\\,\\mathrm{cm}^{-2}$"
      ],
      "text/plain": [
       "<IPython.core.display.Latex object>"
      ]
     },
     "metadata": {},
     "output_type": "display_data"
    }
   ],
   "source": [
    "# Insert your code here.\n",
    "\n",
    "# Solve the equation N_1 * np.exp(-mu_E1 * R) = N_B.std_dev for R.\n",
    "\n",
    "import uncertainties.umath\n",
    "\n",
    "R_1 = -uncertainties.umath.log(N_B.std_dev / N_1) / mu_E1\n",
    "R_2 = -uncertainties.umath.log(N_B.std_dev / N_2) / mu_E2\n",
    "display(Latex(f'$R^1_{{\\\\beta}} = {R_1}\\ \\mathrm{{g}}\\,\\mathrm{{cm}}^{{-2}}$'))\n",
    "display(Latex(f'$R^2_{{\\\\beta}} = {R_2}\\ \\mathrm{{g}}\\,\\mathrm{{cm}}^{{-2}}$'))\n"
   ]
  },
  {
   "cell_type": "markdown",
   "metadata": {},
   "source": [
    "$\\color{red}{\\textbf{Task:}}$ Plot the two absorption curves and the estimated electron ranges."
   ]
  },
  {
   "cell_type": "code",
   "execution_count": 10,
   "metadata": {},
   "outputs": [
    {
     "data": {
      "image/png": "[encoded data removed]",
      "text/plain": [
       "<Figure size 432x288 with 1 Axes>"
      ]
     },
     "metadata": {
      "needs_background": "light"
     },
     "output_type": "display_data"
    }
   ],
   "source": [
    "# Insert your code here.\n",
    "\n",
    "# Plot the curves for the two decays in the same plot. Use the same x-axis range for both curves.\n",
    "# Plot the above estimated values of R_1 and R_2 with vertical lines in the plot.\n",
    "# The plot should have a logarithmic y-axis.\n",
    "\n",
    "x = np.linspace(df['d'].min(), df['d'].max(), 100)\n",
    "\n",
    "# the first absorption curve\n",
    "y1 = [wrapped_absorption(x, N_1, mu_E1, 0, 0, 0) for x in x]\n",
    "y1_upper = unumpy.nominal_values(y1) + unumpy.std_devs(y1)\n",
    "y1_lower = unumpy.nominal_values(y1) - unumpy.std_devs(y1)\n",
    "plt.plot(x, unumpy.nominal_values(y1), label='$N_{1}(d)$', linewidth=1, color='red')\n",
    "plt.fill_between(x, y1_lower, y1_upper, color='red', alpha=0.3)\n",
    "\n",
    "# the second absorption curve\n",
    "y2 = [wrapped_absorption(x, 0, 0, N_2, mu_E2, 0) for x in x]\n",
    "y2_upper = unumpy.nominal_values(y2) + unumpy.std_devs(y2)\n",
    "y2_lower = unumpy.nominal_values(y2) - unumpy.std_devs(y2)\n",
    "plt.plot(x, unumpy.nominal_values(y2), label='$N_{2}(d)$', linewidth=1, color='blue')\n",
    "plt.fill_between(x, y2_lower, y2_upper, color='blue', alpha=0.3)\n",
    "\n",
    "# vertical lines at R_1 and R_2\n",
    "plt.vlines(x=R_1.nominal_value, ymin=1, ymax=N_B.std_dev, label='$R_1$', linestyle='--', linewidth=1, color='red')\n",
    "plt.vlines(x=R_2.nominal_value, ymin=1, ymax=N_B.std_dev, label='$R_2$', linestyle='--', linewidth=1, color='blue')\n",
    "\n",
    "# horizontal line at N_B.std_dev\n",
    "plt.axhline(y=N_B.std_dev, color='black', linestyle='--')\n",
    "\n",
    "# labels etc.\n",
    "plt.yscale('log')\n",
    "plt.ylim(1, 1e4)\n",
    "plt.xlabel('$d$ [g $\\mathrm{cm}^{-2}$]')\n",
    "plt.ylabel('$N$')\n",
    "plt.legend()\n",
    "plt.show()"
   ]
  },
  {
   "cell_type": "markdown",
   "metadata": {},
   "source": [
    "$\\color{red}{\\textbf{Task:}}$ The above method of estimating the electron range is quite rough. Discuss why it is so and suggest some alternative method."
   ]
  },
  {
   "cell_type": "markdown",
   "metadata": {},
   "source": [
    "$\\color{red}{\\textbf{Solution:}}$"
   ]
  },
  {
   "cell_type": "markdown",
   "metadata": {},
   "source": [
    "$\\color{red}{\\textbf{Task:}}$ From the maximum electron range $R_{\\beta}^{1,2}$ (in units of areal density), estimate the maximum electron energies $E_0^{1,2}$. Use the following empirical relations:\n",
    "$$\n",
    "R_{\\beta}[\\mathrm{g}\\,\\mathrm{cm}^{-2}] = \\begin{cases}\n",
    "0.407 \\times (E_0[\\mathrm{MeV}])^{1.38} & 0.15 \\mathrm{MeV} < E_0 \\leq 0.8 \\mathrm{MeV} \\\\\n",
    "0.542 \\times (E_0[\\mathrm{MeV}]) -0.133 & E_0 > 0.8 \\mathrm{MeV},\n",
    "\\end{cases}\n",
    "$$\n",
    "to which it is necessary to substitute in the indicated units."
   ]
  },
  {
   "cell_type": "code",
   "execution_count": 11,
   "metadata": {},
   "outputs": [
    {
     "data": {
      "text/latex": [
       "$E_{0}^{1} = 1.945+/-0.027\\ \\mathrm{MeV}$"
      ],
      "text/plain": [
       "<IPython.core.display.Latex object>"
      ]
     },
     "metadata": {},
     "output_type": "display_data"
    },
    {
     "data": {
      "text/latex": [
       "$E_{0}^{2} = 0.534+/-0.010\\ \\mathrm{MeV}$"
      ],
      "text/plain": [
       "<IPython.core.display.Latex object>"
      ]
     },
     "metadata": {},
     "output_type": "display_data"
    }
   ],
   "source": [
    "# Insert your code here.\n",
    "\n",
    "# From R_1 and R_2, calculate the maximum electron energies E_0^1 and E_0^2 of the beta particles. Use the empirical formula just above.\n",
    "\n",
    "E_1 = (R_1 / 0.407) ** (1 / 1.38)\n",
    "E_2 = (R_2 + 0.133) / 0.542\n",
    "display(Latex(f'$E_{{0}}^{{1}} = {E_1}\\ \\mathrm{{MeV}}$'))\n",
    "display(Latex(f'$E_{{0}}^{{2}} = {E_2}\\ \\mathrm{{MeV}}$'))"
   ]
  },
  {
   "cell_type": "markdown",
   "metadata": {},
   "source": [
    "$\\color{red}{\\textbf{Task:}}$ Compare the determined values of the maximum energies $E_0^1$, $E_0^2$ with the tabulated values [1]."
   ]
  },
  {
   "cell_type": "markdown",
   "metadata": {},
   "source": [
    "$\\color{red}{\\textbf{Solution:}}$"
   ]
  },
  {
   "cell_type": "markdown",
   "metadata": {},
   "source": [
    "# Poisson distribution\n",
    "\n",
    "The detection of individual electrons emitted in beta decay within a specific time interval are mutually independent random events. The probability $P(k)$ that such an event occurs exactly $k$ times is given by the Poisson distribution:\n",
    "$$\n",
    "P(k) = \\frac{\\mu^k}{k!} e^{-\\mu},\n",
    "$$\n",
    "where $\\mu$ represents the mean value. The standard deviation of this distribution is $\\sqrt{\\mu}$. With an increasing $\\mu$, the Poisson distribution converges to the Gaussian distribution:\n",
    "$$\n",
    "P(x) = \\frac{1}{\\sqrt{2\\pi\\sigma^2}} e^{-\\frac{(x-\\mu)^2}{2\\sigma^2}},\n",
    "$$\n",
    "where $\\sigma = \\sqrt{\\mu}$."
   ]
  },
  {
   "cell_type": "markdown",
   "metadata": {},
   "source": [
    "$\\color{red}{\\textbf{Task:}}$ Demonstrate that the number of emitted electrons is described by the Poisson distribution.\n",
    "\n",
    "- Measurement is done without the absorber, 765 times, each time for 1 s."
   ]
  },
  {
   "cell_type": "code",
   "execution_count": 12,
   "metadata": {},
   "outputs": [],
   "source": [
    "# Insert your data here. The data should be inserted into a DataFrame with a single column named 'N'.\n",
    "\n",
    "# For testing: load the example data.\n",
    "df = pd.read_csv('example_data/poisson.txt', sep='\\s+', skiprows=1, usecols=[2], header=None)\n",
    "df.columns = ['N']"
   ]
  },
  {
   "cell_type": "markdown",
   "metadata": {},
   "source": [
    "$\\color{red}{\\textbf{Task:}}$ Fit the data with the Poisson distribution.\n",
    "- Remember that the Poisson distribution mean, $\\mu$, is estimated as the sample mean.\n",
    "- The standard deviation of $\\mu$ is then estimated as the square root of the sample variance divided by the square root of the number of measurements."
   ]
  },
  {
   "cell_type": "code",
   "execution_count": 13,
   "metadata": {},
   "outputs": [
    {
     "data": {
      "text/latex": [
       "$\\mu = 135.26 \\pm 0.45$"
      ],
      "text/plain": [
       "<IPython.core.display.Latex object>"
      ]
     },
     "metadata": {},
     "output_type": "display_data"
    }
   ],
   "source": [
    "\n",
    "# Insert your code here.\n",
    "\n",
    "# The mean value estimate\n",
    "mu_fit = df['N'].mean()\n",
    "\n",
    "# Calculate the standard deviation of the mean\n",
    "mu_fit_unc = df['N'].std() / np.sqrt(len(df))\n",
    "\n",
    "# Print the fit parameter\n",
    "display(Latex(f'$\\mu = {mu_fit:.2f} \\pm {mu_fit_unc:.2f}$'))"
   ]
  },
  {
   "cell_type": "markdown",
   "metadata": {},
   "source": [
    "$\\color{red}{\\textbf{Task:}}$ Check the goodness of fit using the chi-squared test - calculate the p-value and discuss whether the fit is acceptable."
   ]
  },
  {
   "cell_type": "code",
   "execution_count": 23,
   "metadata": {},
   "outputs": [
    {
     "data": {
      "text/latex": [
       "$\\chi^2 = 871.81$"
      ],
      "text/plain": [
       "<IPython.core.display.Latex object>"
      ]
     },
     "metadata": {},
     "output_type": "display_data"
    },
    {
     "data": {
      "text/latex": [
       "ndf $= 764$"
      ],
      "text/plain": [
       "<IPython.core.display.Latex object>"
      ]
     },
     "metadata": {},
     "output_type": "display_data"
    },
    {
     "data": {
      "text/latex": [
       "$p = 0.0040$"
      ],
      "text/plain": [
       "<IPython.core.display.Latex object>"
      ]
     },
     "metadata": {},
     "output_type": "display_data"
    }
   ],
   "source": [
    "# Insert your code here.\n",
    "\n",
    "# Calculate the chi-squared value of the fit\n",
    "residuals = df['N'] - mu_fit\n",
    "chi_square = np.sum(residuals ** 2 / mu_fit)\n",
    "ndf = len(df) - 1  # number of degrees of freedom\n",
    "display(Latex(f'$\\chi^2 = {chi_square:.2f}$'))\n",
    "display(Latex(f'ndf $= {ndf}$'))\n",
    "\n",
    "# Calculate the p-value.\n",
    "import scipy\n",
    "p_value = 1 - scipy.stats.chi2.cdf(chi_square, ndf)\n",
    "display(Latex(f'$p = {p_value:.4f}$'))"
   ]
  },
  {
   "cell_type": "markdown",
   "metadata": {},
   "source": [
    "$\\color{red}{\\textbf{Task:}}$ Make a histogram of the outcome.\n",
    "- The histogram should be normalized to the unit area (i.e. each bin should be divided by the total number of measurements)."
   ]
  },
  {
   "cell_type": "code",
   "execution_count": 14,
   "metadata": {},
   "outputs": [],
   "source": [
    "# Insert your code here.\n",
    "\n",
    "# histogram the data\n",
    "hist, bin_edges = np.histogram(df['N'], bins=[df['N'].min() - 0.5 + i for i in range(df['N'].max() - df['N'].min() + 1)], density=True)"
   ]
  },
  {
   "cell_type": "markdown",
   "metadata": {},
   "source": [
    "$\\color{red}{\\textbf{Task:}}$ Plot the histogram and the fitted Poisson distribution."
   ]
  },
  {
   "cell_type": "code",
   "execution_count": 15,
   "metadata": {},
   "outputs": [
    {
     "data": {
      "image/png": "[encoded data removed]",
      "text/plain": [
       "<Figure size 432x288 with 1 Axes>"
      ]
     },
     "metadata": {
      "needs_background": "light"
     },
     "output_type": "display_data"
    }
   ],
   "source": [
    "\n",
    "# Insert your code here.\n",
    "\n",
    "# to draw the fit function and its uncertainty band, we need to evaluate the fit function at many points\n",
    "x = np.arange(df['N'].min(), df['N'].max())\n",
    "from scipy.stats import poisson\n",
    "y_fit = poisson.pmf(x, mu_fit)\n",
    "\n",
    "# calculate the bin centers\n",
    "bin_centers = (bin_edges[:-1] + bin_edges[1:]) / 2\n",
    "\n",
    "\n",
    "y_fit_upper = poisson.pmf(x, mu_fit + mu_fit_unc)\n",
    "y_fit_lower = poisson.pmf(x, mu_fit - mu_fit_unc)\n",
    "\n",
    "# plot the data and the fit function\n",
    "plot(bin_centers, hist, None, x, y_fit, y_fit_lower, y_fit_upper, '$N$', 'Probability')"
   ]
  },
  {
   "cell_type": "markdown",
   "metadata": {},
   "source": [
    "# Literature\n",
    "\n",
    "[1] S. K. Basu and E. A. McCutchan, Nuclear Data Sheets for A = 90, Nucl. Data Sheets 165 (2020) 1-329, available at https://www.nndc.bnl.gov/ensdf/"
   ]
  }
 ],
 "metadata": {
  "kernelspec": {
   "display_name": "Python 3",
   "language": "python",
   "name": "python3"
  },
  "language_info": {
   "codemirror_mode": {
    "name": "ipython",
    "version": 3
   },
   "file_extension": ".py",
   "mimetype": "text/x-python",
   "name": "python",
   "nbconvert_exporter": "python",
   "pygments_lexer": "ipython3",
   "version": "3.10.12"
  }
 },
 "nbformat": 4,
 "nbformat_minor": 2
}
