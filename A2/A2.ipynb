{
 "cells": [
  {
   "cell_type": "markdown",
   "id": "5aeaedd0",
   "metadata": {},
   "source": [
    "# Introduction\n",
    "\n",
    "The oldest and still most common methods for measuring and comparing the activities of radioactive\n",
    "emitters are based on the ionizing effects of radiation in gases. Gases become conductive\n",
    "when ionizing radiation passes through them. If an ionizing particle enters the space between the plates\n",
    "of a capacitor to which voltage is applied, it creates positive and negative ions\n",
    "or free electrons along its path, which are set in motion by the electric field toward\n",
    "the electrodes, and an ionizing current passes between the capacitor plates. The ionization current depends\n",
    "on the intensity of the ionizing radiation, the energy of the ionizing particles, and the voltage between the plates\n",
    "of the capacitor. Since ionization losses depend on the type of ionizing particle and its initial\n",
    "energy, the described device can be used to distinguish between different types of particles or between\n",
    "energies of identical types of radiation.\n",
    "\n",
    "## Characteristics of a gas detector\n",
    "\n",
    "The dependence of the ionization current on the voltage between the detector electrodes, i.e., the characteristics of the chamber, is\n",
    "important for selecting the method and conditions of detector operation. In normal cases, at\n",
    "constant intensity of ionizing radiation, it shows a typical dependency that can be divided into the following\n",
    "areas:\n",
    "\n",
    "- Ohm's law region. If no voltage is applied to the detector electrodes,\n",
    "no electric current flows through the chamber. The ions and electrons created by radiation completely\n",
    "recombine or diffuse outside the active region of the detector. Applying a small\n",
    "voltage leads to the separation of free charge carriers of opposite signs. The speed of their\n",
    "movement to the corresponding electrodes is directly proportional to the intensity of the electric field.\n",
    "The ionisation current therefore increases in direct proportion to the voltage.\n",
    "- As the voltage increases, the charge carriers are drawn more quickly to the electrodes, the\n",
    "number of ions in the active area decreases, and thus the chance of their recombination also decreases. The proportionality\n",
    "of the current to the voltage ceases to apply. The increase in current with voltage slows down.\n",
    "- The saturated current region is characterised by a constant ionisation current value,\n",
    "independent of voltage. At sufficiently high voltage, the recombination rate is suppressed\n",
    "to a negligible level and all free charge created by ionisation contributes\n",
    "to the ionisation current. Further increase in voltage cannot lead to an increase in current,\n",
    "as all free charge has already been collected and the rate of charge creation is constant. This\n",
    "region is typical for the operation of ionisation chambers.\n",
    "- Gas/avalanche amplification region. On their way to the electrodes, ions and electrons\n",
    "undergo numerous collisions with neutral molecules/atoms of the detector's gas filling.\n",
    "At sufficiently high electric field intensity ($10^6~\\mathrm{V/m}$ for typical gases),\n",
    "the electrons gain energy between collisions that is higher than the ionisation energy.\n",
    "In the subsequent collision, they can then form a new ion pair. The secondary ion pair is\n",
    "then also accelerated by the electric field and creates further ion pairs. In this way,\n",
    "so-called avalanche amplification occurs, where each electron released in the primary ionisation\n",
    "by radiation generates a certain amount of secondary free electrons contributing\n",
    "to the electric current.\n",
    "- Proportionality region. In this region, gas amplification is independent of primary\n",
    "ionisation. The ionisation is therefore proportional to the number of ion pairs created by the direct\n",
    "action of radiation, i.e. also to the total loss of radiation energy in the chamber.\n",
    "- Limited proportionality region. As the voltage increases further, it becomes apparent that\n",
    "while free electrons reach the anode very quickly, positive ions hardly move from their point of origin during\n",
    "the same time and slowly drift towards the cathode. If\n",
    "the concentration of positive ions in the detector volume is sufficiently high, they represent\n",
    "a space charge that significantly reduces the intensity of the electric field. This\n",
    "weakens further gas amplification and disrupts the proportionality between the signal and\n",
    "primary ionisation. It is still true that more energy deposited in the detector corresponds to\n",
    "a larger signal, but it is no longer directly proportional.\n",
    "- Geiger-Müller (GM) region. At sufficiently high voltage, the avalanche develops only\n",
    "until the emerging positive space charge reduces the intensity of the\n",
    "electric field to a level where gas amplification can no longer occur.\n",
    "At that point, all detector pulses have the same amplitude, independent of the type and\n",
    "energy of the radiation.\n",
    "\n",
    "## Types of gas detectors\n",
    "\n",
    " A whole range of instruments designed to measure nuclear radiation is based on ionisation. Different\n",
    "characteristics of the described device utilise different types of gas counters. The area of\n",
    "Ohm's law is not suitable for particle detection because the resulting ionisation currents are very\n",
    "small and their magnitude is sensitive to the applied voltage.\n",
    "\n",
    " The saturated I area, where ionisation chambers operate, is much more advantageous for particle detection.\n",
    " In this area, the ionisation current passing through the chamber is independent of the magnitude of the\n",
    "applied voltage, and particles with different energies are easily distinguishable. The disadvantage\n",
    "of ionisation chambers is that the ionisation currents are still very small, resulting in demands on\n",
    "subsequent electronic processing, namely significant linear amplification, low noise levels, and\n",
    "the like.\n",
    "\n",
    " This region is followed by the region of proportional counters. Their great advantage is\n",
    "so-called gas amplification, which reaches three to five orders of magnitude. These counters utilise an increase in the\n",
    "number of ions in the gas filling through secondary ionisation in collisions. Because the dependence of the ionisation current on the applied voltage is very steep in this area,\n",
    "proportional counters require a very well-stabilised voltage source for proper operation.\n",
    "At the upper edge of the proportionality region, the so-called limited proportionality region, the\n",
    "characteristics of the chamber for different types of particles begin to converge, and this part of the region is\n",
    "practically not used.\n",
    "\n",
    "The end point of the proportionality range, where the characteristics of the chamber for different types of particles\n",
    "converge at a single point, is known as the Geiger threshold. Geiger-Müller counters operate above this threshold. Their advantage is high gas amplification. However, Geiger-Müller counters\n",
    "cannot distinguish between the energies or types of particles in the incident radiation.\n",
    "\n",
    "## Ionisation chamber\n",
    "\n",
    "The most commonly used chambers are static low-pressure chambers with constant ionisation [1]. These are\n",
    "essentially gas (air) condensers. The effect of ionising radiation maintains a constant ionisation current, which discharges the chamber, and the magnitude of the ionisation current is\n",
    "then measured in a suitable manner. Only with very powerful emitters is it possible to measure this current with a highly\n",
    "sensitive galvanometer. An electrometer is usually used to detect the change in voltage over time.\n",
    "\n",
    "When working with an ionisation chamber, either a pulse or integral connection can be used. In the first\n",
    "case, either a current or, more advantageously, a voltage pulse is sensed from a resistor connected to the\n",
    "chamber's power supply circuit, amplified and recorded. Ionisation chamber in integral connection\n",
    "as an ionising radiation dose detector. In this case, a voltage $U$ is applied to the capacitor representing\n",
    "the ionisation chamber and a charge $Q = CU$ is applied to it, where $C$ is the constant capacitance\n",
    "of the capacitor. Ionising particles pass through the effective volume of the chamber, leaving behind\n",
    "ions that are carried to the electrodes, where their charge is neutralised. This results in\n",
    "a transfer of charge between the electrodes of the capacitor and the capacitor discharges. Since the capacitance\n",
    "of the capacitor is constant in this arrangement, the voltage drop corresponds to the radiation dose\n",
    "registered by the chamber. The time change in voltage across the capacitor then corresponds to the intensity\n",
    "of the registered radiation.\n",
    "\n",
    "Under normal conditions, the air in the ionisation chamber is not a perfect insulator. Due to this\n",
    "and due to cosmic radiation or trace amounts of radioactive elements that are\n",
    "present in all substances, the chamber discharges. Although this so-called leakage current is very\n",
    "small, it is comparable to the ionisation current. Therefore, the resulting measurements must always be corrected for\n",
    "this effect.\n",
    "\n",
    "Although ionisation chambers are fundamentally the same for detecting different types of radiation,\n",
    "they differ in design. Alpha particles originating from naturally radioactive samples have a short range in air.\n",
    "For example, the range of the most energetic alpha particles emitted from the radioactive isotope\n",
    "polonium $^{212}\\mathrm{Po}$, which have a kinetic energy of $T_0 = 8.776~\\mathrm{MeV}$, is less than $9~\\mathrm{cm}$ in air under normal\n",
    "conditions. Therefore, alpha emitters are placed inside a cylindrical chamber with a\n",
    "diameter of about $18~\\mathrm{cm}$ so that most alpha particles leave their energy in the chamber.\n",
    "\n",
    "Since the range of beta particles from naturally radioactive samples in air under normal\n",
    "conditions is several metres, ionisation chambers for registering beta radiation are constructed to be as large as possible. Even\n",
    "so, only a fraction of the electrons are absorbed in the effective space of the chamber, and this device is most often\n",
    "used for comparative measurements for the same types of particles with the same energy.\n",
    "\n",
    "The direct ionisation of air by gamma radiation is very small. Therefore, the design of ionisation chambers for\n",
    "gamma radiation is significantly different from the previous two devices. \n",
    "The emitter is located outside the chamber, and\n",
    "the chamber walls act as a converter of gamma radiation into electrons. Since the probability of interaction\n",
    "of gamma radiation with matter increases with the proton number of the substance, chambers with thick walls\n",
    "made of lead, steel or brass are used.\n",
    "\n",
    "# Experimental setup\n",
    "\n",
    "The subject of study are two gas detectors – a plate ionisation chamber with adjustable electrode distance\n",
    "and a GM detector. Both detectors are to be connected to the same connector. However, the functions of this\n",
    "connector differ when connecting an ionisation chamber or GM detector. The connector diagram is shown in\n",
    "Fig. 2.\n",
    "A KEITHLEY 6487 picoammeter is used to measure the current of the ionisation chamber. This\n",
    "device has a built-in $0-500~\\mathrm{V}$ voltage source. See Fig. 3 for the connection diagram. The voltage is set\n",
    "using the buttons on the front panel of the device in the V-SOURCE area. Use the up and down arrows to\n",
    "select the voltage value. Pressing the OPER button activates the set voltage and\n",
    "simultaneously illuminates the VOLTAGE SOURCE OPERATE indicator. Pressing the OPER button again\n",
    "deactivates the voltage and turns off the indicator.\n",
    "A NEMEC $0-2000~\\mathrm{V}$ high-voltage source is used to study the GM detector. When\n",
    "measuring, do not exceed a voltage of $1500~\\mathrm{V}$ to avoid destroying the GM detector! The amplitude\n",
    "of the pulses is measured using an oscilloscope with an input resistance of $1~\\mathrm{M}\\Omega$. See\n",
    "Fig. 4 for the connection diagram.\n"
   ]
  },
  {
   "cell_type": "markdown",
   "id": "218480ce",
   "metadata": {},
   "source": [
    "# References\n",
    "\n",
    "[1] W.R.Leo, Techniques for Nuclear and Particle Physics Experiments, Springer Verlag BerlinHeidelberg 1987\n",
    "\n",
    "[2] https://en.wikibooks.org/wiki/Basic_Physics_of_Nuclear_Medicine/Gas-Filled_Radiation_Detectors"
   ]
  },
  {
   "cell_type": "markdown",
   "id": "764075cd",
   "metadata": {},
   "source": [
    "# V-A characteristics of the ionisation chamber"
   ]
  },
  {
   "cell_type": "markdown",
   "id": "9510a3e4",
   "metadata": {},
   "source": [
    "$\\color{red}{\\textbf{Task:}}$ Using the ionisation chamber, check which $^{239}\\mathrm{Pu}$ alpha-radiation source has a higher activity: EA-13 or EA-14. Discuss your strategy and findings.\n"
   ]
  },
  {
   "cell_type": "markdown",
   "id": "eda1e06b",
   "metadata": {},
   "source": [
    "$\\color{red}{\\textbf{Solution:}}$"
   ]
  },
  {
   "cell_type": "markdown",
   "id": "da4b1734",
   "metadata": {},
   "source": [
    "$\\color{red}{\\textbf{Task:}}$ Using the source with the higher activity, measure the V-A characteristic of the ionisation chamber in the range of 0-500 V. Do it for two different electrode distances: 1 cm, and 6 cm. Measure in steps 5 V in the first (small) part of the curve, and choose progressively larger steps towards the saturation current region."
   ]
  },
  {
   "cell_type": "code",
   "execution_count": 309,
   "id": "03cb2264",
   "metadata": {},
   "outputs": [
    {
     "name": "stdout",
     "output_type": "stream",
     "text": [
      " U [V]  I [pA] (1cm)  I [pA] (6cm)\n",
      "     0          0.00           0.0\n",
      "     5          0.86           3.2\n",
      "    10          1.74           6.6\n",
      "    15          1.86           7.8\n",
      "    20          1.98           8.8\n",
      "    30          1.98           9.8\n",
      "    40          2.03          10.5\n",
      "    50          1.93          10.7\n",
      "    60          1.98          10.9\n",
      "    70          2.01          11.2\n",
      "    80          2.00          11.2\n",
      "    90          1.98          11.1\n",
      "   100          2.04          11.2\n",
      "   125          2.08          12.0\n",
      "   150          2.04          12.0\n",
      "   175          2.08          12.2\n",
      "   200          2.04          12.3\n",
      "   300          2.08          12.9\n",
      "   400          2.14          12.3\n",
      "   500          2.08          12.7\n"
     ]
    }
   ],
   "source": [
    "# Solution: fill in your measured data.\n",
    "\n",
    "import pandas as pd\n",
    "\n",
    "# Create a DataFrame.\n",
    "df_measurements = pd.DataFrame({\n",
    "    'U [V]': [0, 5, 10, 15, 20, 30, 40, 50, 60, 70, 80, 90, 100, 125, 150, 175, 200, 300, 400, 500],\n",
    "    'I [pA] (1cm)': [0.0, 0.86, 1.74, 1.86, 1.98, 1.98, 2.03, 1.93, 1.98, 2.01, 2.00, 1.98, 2.04, 2.08, 2.04, 2.08, 2.04, 2.08, 2.14, 2.08],\n",
    "    'I [pA] (6cm)': [0.0, 3.2, 6.6, 7.8, 8.8, 9.8, 10.5, 10.7, 10.9, 11.2, 11.2, 11.1, 11.2, 12.0, 12.0, 12.2, 12.3, 12.9, 12.3, 12.7]\n",
    "})\n",
    "\n",
    "# Absolute uncertainty for all current measurements in pA.\n",
    "uncertainty_1cm = 0.04\n",
    "uncertainty_6cm = 0.4\n",
    "\n",
    "# Display the table\n",
    "print(df_measurements.to_string(index=False))\n"
   ]
  },
  {
   "cell_type": "markdown",
   "id": "31f14f21",
   "metadata": {},
   "source": [
    "$\\color{red}{\\textbf{Task:}}$ Fit the Ohm law region and the saturated current region with linear functions. Do it for both electrode distances. Plot the results.\n"
   ]
  },
  {
   "cell_type": "code",
   "execution_count": 310,
   "id": "448eea0c",
   "metadata": {},
   "outputs": [
    {
     "name": "stdout",
     "output_type": "stream",
     "text": [
      "Caught an OptimizeWarning message from scipy.optimize.curve_fit: Covariance of the parameters could not be estimated.\n",
      "The number of points used for fitting was: 3.\n",
      "The fitted region was the saturated current region.\n",
      "Skipping this fit.\n",
      "\n",
      "Electrodes distance: 1 cm\n",
      "=========================\n",
      "\n",
      "  Ohm region:\n",
      "  -----------\n",
      "  N=3, p-value=0.8382565\n",
      "  Fit parameters: a=0.1740+/-0.0057, b=-0.0033+/-0.0365\n",
      "\n",
      "  Saturated region:\n",
      "  -----------------\n",
      "  N=8, p-value=0.7942559\n",
      "  Fit parameters: a=0.0001+/-0.0001, b=2.0375+/-0.0294\n",
      "\n"
     ]
    },
    {
     "data": {
      "image/png": "[encoded data removed]",
      "text/plain": [
       "<Figure size 640x480 with 1 Axes>"
      ]
     },
     "metadata": {},
     "output_type": "display_data"
    },
    {
     "name": "stdout",
     "output_type": "stream",
     "text": [
      "\n",
      "Electrodes distance: 6 cm\n",
      "=========================\n",
      "\n",
      "  Ohm region:\n",
      "  -----------\n",
      "  N=3, p-value=0.8382565\n",
      "  Fit parameters: a=0.6600+/-0.0566, b=-0.0333+/-0.3651\n",
      "\n",
      "  Saturated region:\n",
      "  -----------------\n",
      "  N=7, p-value=0.8127399\n",
      "  Fit parameters: a=0.0017+/-0.0012, b=11.9001+/-0.3408\n",
      "\n"
     ]
    },
    {
     "data": {
      "image/png": "[encoded data removed]",
      "text/plain": [
       "<Figure size 640x480 with 1 Axes>"
      ]
     },
     "metadata": {},
     "output_type": "display_data"
    }
   ],
   "source": [
    "# Solution.\n",
    "\n",
    "# Fit the first N current-voltage values with a linear function and the last M values with a different linear function.\n",
    "# Determine the numbers N and M minimizing the chi-squared goodness-of-fit statistic of each linear fit.\n",
    "# Note that N+M does not need to be equal to the total number of data points - it can be larger or smaller.\n",
    "\n",
    "# Imports.\n",
    "from scipy.optimize import curve_fit, OptimizeWarning\n",
    "import warnings\n",
    "import numpy as np\n",
    "import scipy.stats\n",
    "import matplotlib.pyplot as plt\n",
    "import uncertainties\n",
    "\n",
    "def plot_fits(x, y, y_unc, a_ohm, b_ohm, N_ohm, a_sat, b_sat, N_sat, title = None):\n",
    "\n",
    "    # Convert inputs to numpy arrays.\n",
    "    x = np.array(x)\n",
    "    y = np.array(y)\n",
    "    y_unc = np.array(y_unc)\n",
    "\n",
    "    # Plot the data.\n",
    "    plt.errorbar(x, y, y_unc, fmt='o', label='Data', color='black')\n",
    "\n",
    "    # Plot the Ohm fit function.\n",
    "    plt.plot(x[:N_ohm], linear(x[:N_ohm], a_ohm, b_ohm), label='Fit Ohm', color='red')\n",
    "\n",
    "    # Plot the saturation fit function.\n",
    "    plt.plot(x[-N_sat:], linear(x[-N_sat:], a_sat, b_sat), label='Fit Sat.', color='blue')\n",
    "\n",
    "    # get the current legend handles and labels\n",
    "    handles, labels = plt.gca().get_legend_handles_labels()\n",
    "    plt.legend(handles=handles[::-1], labels=labels[::-1])  # reverse the order\n",
    "\n",
    "    # Labels etc.\n",
    "    plt.xlabel('U [V]')\n",
    "    plt.ylabel('I [pA]')\n",
    "    if title:\n",
    "        plt.title(title)\n",
    "    plt.show()\n",
    "\n",
    "# Define the linear model.\n",
    "def linear(x, a, b):\n",
    "    return a * x + b\n",
    "\n",
    "# Function implementing the fit procedure.\n",
    "# Voltage and current are iterables containing the measured values.\n",
    "# Uncertainty is an iterable containing the measurement uncertainties for each current value.\n",
    "# Returns: the fit parameters a, b, and the p-value in the following order: a, b, p-value.\n",
    "def fit(U, I, I_unc):\n",
    "\n",
    "    # Fit the linear model to the data.\n",
    "    try:\n",
    "        with warnings.catch_warnings():\n",
    "            warnings.simplefilter(\"error\", OptimizeWarning)\n",
    "            \n",
    "            # The curve_fit call is inside the context and try block.\n",
    "            nom_ab, cov_ab = curve_fit(linear, U, I, sigma=I_unc, absolute_sigma=True)\n",
    "\n",
    "    except OptimizeWarning as e:\n",
    "        print(f\"Caught an OptimizeWarning message from scipy.optimize.curve_fit: {e}.\")\n",
    "        print(f\"The number of points used for fitting was: {len(U)}.\")\n",
    "        return  # Skip to the next iteration if fitting failed\n",
    "\n",
    "    # Calculate the standard errors of the fitted parameters.\n",
    "    a, b = uncertainties.correlated_values(nom_ab, cov_ab)\n",
    "\n",
    "    # Calculate the minimum chi-square value.\n",
    "    residuals = I - linear(U, *nom_ab)\n",
    "    chi_square_value = np.sum((residuals / I_unc)**2)\n",
    "    \n",
    "    # Calculate the degrees of freedom.\n",
    "    dof = len(U) - len(nom_ab)\n",
    "    \n",
    "    # Calculate the p-value.\n",
    "    p_value = 1 - scipy.stats.chi2.cdf(chi_square_value, dof)\n",
    "\n",
    "    # Return the fit results.\n",
    "    return a, b, p_value\n",
    "\n",
    "\n",
    "for distance in [1, 6]:\n",
    "\n",
    "    # Get the current and voltage values for the fit.\n",
    "    I = df_measurements[f'I [pA] ({distance}cm)']\n",
    "    U = df_measurements['U [V]']\n",
    "\n",
    "    # Get the uncertainty.\n",
    "    if distance == 1:\n",
    "        I_unc = [uncertainty_1cm for _ in U]\n",
    "    elif distance == 6:\n",
    "        I_unc = [uncertainty_6cm for _ in U]\n",
    "    else:\n",
    "        raise ValueError(\"Unknown distance of the electrodes! Update all strings in the notebook according to your needs and rerun it.\")\n",
    "\n",
    "\n",
    "    # Start with the Ohm's law region, i.e. the first N points.\n",
    "    p_ohm = 0.0\n",
    "    N_ohm = 0\n",
    "    a_ohm, b_ohm = 0, 0\n",
    "\n",
    "    # For each fit, determine the chi-squared p-value and compare it with p_ohm.\n",
    "    for N in range(3, len(U)):\n",
    "\n",
    "        # Perform the fit.\n",
    "        try:\n",
    "            a, b, p_value = fit(U[:N], I[:N], I_unc[:N])\n",
    "        except:\n",
    "            print(\"The fitted region was the Ohm region.\")\n",
    "            print(\"Skipping this fit.\")\n",
    "            continue\n",
    "\n",
    "        # Check if the p-value is larger than the previous maximum.\n",
    "        if p_value > p_ohm:\n",
    "            p_ohm = p_value\n",
    "            N_ohm = N\n",
    "            a_ohm, b_ohm = a, b\n",
    "\n",
    "    # Second, do the saturated current region, i.e. the last N points.\n",
    "    p_sat = 0.0\n",
    "    N_sat = 0\n",
    "    a_sat, b_sat = 0, 0\n",
    "\n",
    "    # For each fit, determine the chi-squared p-value and compare it with p_sat.\n",
    "    for N in range(3, len(U)):\n",
    "\n",
    "        # Perform the fit.\n",
    "        try:\n",
    "            a, b, p_value = fit(U[-N:], I[-N:], I_unc[-N:])\n",
    "        except:\n",
    "            print(\"The fitted region was the saturated current region.\")\n",
    "            print(\"Skipping this fit.\")\n",
    "            continue\n",
    "\n",
    "        # Check if the p-value is larger than the previous maximum.\n",
    "        if p_value > p_sat:\n",
    "            p_sat = p_value\n",
    "            N_sat = N\n",
    "            a_sat, b_sat = a, b\n",
    "\n",
    "\n",
    "    # Print the results.\n",
    "    print()\n",
    "    print(f\"Electrodes distance: {distance} cm\")\n",
    "    print(\"=========================\")\n",
    "    print()\n",
    "    print(\"  Ohm region:\")\n",
    "    print(\"  -----------\")\n",
    "    print(f\"  N={N_ohm}, p-value={p_ohm:.7f}\")\n",
    "    print(f\"  Fit parameters: a={a_ohm:.4f}, b={b_ohm:.4f}\")\n",
    "    print()\n",
    "    print(\"  Saturated region:\")\n",
    "    print(\"  -----------------\")\n",
    "    print(f\"  N={N_sat}, p-value={p_sat:.7f}\")\n",
    "    print(f\"  Fit parameters: a={a_sat:.4f}, b={b_sat:.4f}\")\n",
    "    print()\n",
    "\n",
    "    # Plot the data and the fit.\n",
    "    plot_fits(U, I, I_unc,\n",
    "            a_ohm.nominal_value, b_ohm.nominal_value, N_ohm,\n",
    "            a_sat.nominal_value, b_sat.nominal_value, N_sat,\n",
    "            title = f\"Ionisation chamber, electrode distance: {distance} cm\")"
   ]
  },
  {
   "cell_type": "markdown",
   "id": "a4ec8c7f",
   "metadata": {},
   "source": [
    "$\\color{red}{\\textbf{Task:}}$ Discuss the obtained results. Identify the characteristic regions of the V-A dependencies. Determine the optimal voltage and optimal distance between ionization chamber electrodes."
   ]
  },
  {
   "cell_type": "markdown",
   "id": "de30d0c4",
   "metadata": {},
   "source": [
    "# Ionisation current measurement with different electrode distances"
   ]
  },
  {
   "cell_type": "markdown",
   "id": "53362c89",
   "metadata": {},
   "source": [
    "$\\color{red}{\\textbf{Task:}}$ Using the $^{239}\\mathrm{Pu}$ source with the higher activity, measure the ionisation current for six different electrode distances: 1 cm, 2 cm, 3 cm, 4 cm, 5 cm, and 6 cm. Use an appropriate voltage, determined using the V-A characteristics measurement."
   ]
  },
  {
   "cell_type": "code",
   "execution_count": 311,
   "id": "dd67a318",
   "metadata": {},
   "outputs": [
    {
     "name": "stdout",
     "output_type": "stream",
     "text": [
      " Distance [cm]  I [pA]  I_unc [pA]\n",
      "           1.0    2.08        0.04\n",
      "           2.0    6.04        0.04\n",
      "           3.0   10.40        0.40\n",
      "           4.0   12.60        0.40\n",
      "           5.0   12.50        0.40\n",
      "           6.0   12.50        0.40\n"
     ]
    }
   ],
   "source": [
    "# Solution: fill in your measured data.\n",
    "\n",
    "import pandas as pd\n",
    "\n",
    "# Create a DataFrame\n",
    "df_ic = pd.DataFrame({\n",
    "    'Distance [cm]': [1.0, 2.0, 3.0, 4.0, 5.0, 6.0],\n",
    "    'I [pA]': [2.08, 6.04, 10.4, 12.6, 12.5, 12.5],\n",
    "    'I_unc [pA]': [0.04, 0.04, 0.4, 0.4, 0.4, 0.4],\n",
    "})\n",
    "\n",
    "# Display the table\n",
    "print(df_ic.to_string(index=False))"
   ]
  },
  {
   "cell_type": "markdown",
   "id": "9a0bfd70",
   "metadata": {},
   "source": [
    "$\\color{red}{\\textbf{Task:}}$ Estimate the range of the alpha particles from the $^{239}\\mathrm{Pu}$ source using the measured ionisation currents. The estimate can be the intersection of two fitted linear functions to the I vs. distance data points: fit the first three points (distances 1, 2, and 3 cm) and the last three points (distances 4, 5, and 6 cm) separately.\n"
   ]
  },
  {
   "cell_type": "code",
   "execution_count": 312,
   "id": "2a417b5f",
   "metadata": {},
   "outputs": [
    {
     "name": "stdout",
     "output_type": "stream",
     "text": [
      "Fit for small distances (1.0, 2.0, 3.0): a=3.97+/-0.06, b=-1.90+/-0.09\n",
      "Fit for large distances (4.0, 5.0, 6.0): a=-0.05+/-0.28, b=12.8+/-1.4\n",
      "Intersection point: (3.65+/-0.12 cm, 12.60+/-0.44 pA)\n"
     ]
    },
    {
     "data": {
      "image/png": "[encoded data removed]",
      "text/plain": [
       "<Figure size 640x480 with 1 Axes>"
      ]
     },
     "metadata": {},
     "output_type": "display_data"
    }
   ],
   "source": [
    "# Solution.\n",
    "\n",
    "# Get the points corresponding to the distances 1, 2, and 3 cm from the dataframe.\n",
    "d_small = df_ic[df_ic['Distance [cm]'] < 4.0]['Distance [cm]']\n",
    "I_small = df_ic[df_ic['Distance [cm]'] < 4.0]['I [pA]']\n",
    "I_unc_small = df_ic[df_ic['Distance [cm]'] < 4.0]['I_unc [pA]']\n",
    "\n",
    "# Perform the fit to the small-distance data points.\n",
    "a_small, b_small, _ = fit(d_small, I_small, I_unc_small)\n",
    "print(f\"Fit for small distances {tuple(d_small)}: a={a_small}, b={b_small}\")\n",
    "\n",
    "# Get the points corresponding to the distances 4, 5, and 6 cm from the dataframe.\n",
    "d_large = df_ic[df_ic['Distance [cm]'] >= 4.0]['Distance [cm]']\n",
    "I_large = df_ic[df_ic['Distance [cm]'] >= 4.0]['I [pA]']\n",
    "I_unc_large = df_ic[df_ic['Distance [cm]'] >= 4.0]['I_unc [pA]']\n",
    "\n",
    "# Perform the fit to the large-distance data points.\n",
    "a_large, b_large, _ = fit(d_large, I_large, I_unc_large)\n",
    "print(f\"Fit for large distances {tuple(d_large)}: a={a_large}, b={b_large}\")\n",
    "\n",
    "# Calculate the intersection point.\n",
    "x_intersect = (b_large - b_small) / (a_small - a_large)\n",
    "y_intersect = a_small * x_intersect + b_small\n",
    "\n",
    "# Print the intersection point.\n",
    "print(f\"Intersection point: ({x_intersect:.2f} cm, {y_intersect:.2f} pA)\")\n",
    "\n",
    "# Plot the results.\n",
    "# =================\n",
    "\n",
    "# Concatenate the data.\n",
    "d = np.concatenate((d_small, d_large))\n",
    "I = np.concatenate((I_small, I_large))\n",
    "I_unc = np.concatenate((I_unc_small, I_unc_large))\n",
    "\n",
    "# Plot the data.\n",
    "plt.errorbar(d, I, I_unc, fmt='o', label='Data', color='black')\n",
    "\n",
    "# Plot the small-distance fit function up to the intersection point.\n",
    "d_space = np.linspace(d_small[0], x_intersect.nominal_value, 100)\n",
    "plt.plot(d_space, linear(d_space, a_small.nominal_value, b_small.nominal_value), label='Fit, d < 4 cm', color='red')\n",
    "\n",
    "# Plot the saturation fit function.\n",
    "d_space = np.linspace(x_intersect.nominal_value, d_large.iloc[-1], 100)\n",
    "plt.plot(d_space, linear(d_space, a_large.nominal_value, b_large.nominal_value), label='Fit, d >= 4 cm', color='blue')\n",
    "\n",
    "# Plot a dashed vertical line at the intersection point.\n",
    "# The line starts at the x-axis and ends at y_intersect.\n",
    "plt.axvline(x=x_intersect.nominal_value, linestyle='--', color='gray', label=r'$R$')\n",
    "\n",
    "# get the current legend handles and labels\n",
    "handles, labels = plt.gca().get_legend_handles_labels()\n",
    "plt.legend(handles=handles[::-1], labels=labels[::-1])  # reverse the order\n",
    "\n",
    "# Labels etc.\n",
    "plt.xlabel('d [cm]')\n",
    "plt.ylabel('I [pA]')\n",
    "plt.title(\"Ionisation current as a function of the electrode distance\")\n",
    "plt.show()\n"
   ]
  },
  {
   "cell_type": "markdown",
   "id": "48ec8479",
   "metadata": {},
   "source": [
    "$\\color{red}{\\textbf{Task:}}$ Explain why we expect the range, $R$, of the alpha particles from the $^{239}\\mathrm{Pu}$ source to be lower than 4 cm. Use the following facts:\n",
    "- The highest energy of the emitted alpha particles is $5156.59 \\pm 0.14~\\mathrm{keV}$.\n",
    "- The mean energy for an ion pair creation in air is approximately $35~\\mathrm{eV}$.\n",
    "- The range, $R$, of alpha particles in air can be approximated using the formula: $R = \\xi \\cdot E_{\\alpha}^{3/2}$, where $\\xi = 0.31~\\mathrm{cm} \\cdot \\mathrm{MeV}^{-3/2}$ is a constant and $E_{\\alpha}$ is the alpha particle energy.\n",
    "\n",
    "Compare the measured range with the expectation calculated using the above formula."
   ]
  },
  {
   "cell_type": "markdown",
   "id": "25f38a35",
   "metadata": {},
   "source": [
    "$\\color{red}{\\textbf{Solution:}}$"
   ]
  },
  {
   "cell_type": "markdown",
   "id": "4b942caf",
   "metadata": {},
   "source": [
    "$\\color{red}{\\textbf{Task:}}$ Explain why it is a rough but reasonable to estimate the alpha particle range as the intersection of the two fitted linear functions. Explain why it is reasonable to expect the two functions to be linear (hint: recall the Bragg curve), and why they have different slopes.\n"
   ]
  },
  {
   "cell_type": "markdown",
   "id": "87624478",
   "metadata": {},
   "source": [
    "$\\color{red}{\\textbf{Solution:}}$"
   ]
  },
  {
   "cell_type": "markdown",
   "id": "b1ce58aa",
   "metadata": {},
   "source": [
    "# Leakage current"
   ]
  },
  {
   "cell_type": "markdown",
   "id": "7b2283cd",
   "metadata": {},
   "source": [
    "$\\color{red}{\\textbf{Task:}}$ Measure the leakage current in the ionisation chamber as a function of the applied voltage in the range 0-500 V. Use the optimal electrode distance, determined in the previous task."
   ]
  },
  {
   "cell_type": "code",
   "execution_count": 313,
   "id": "369f1a65",
   "metadata": {},
   "outputs": [
    {
     "name": "stdout",
     "output_type": "stream",
     "text": [
      " U [V]  I [pA]  I_unc [pA]\n",
      "     0    0.01        0.01\n",
      "   100    0.01        0.01\n",
      "   200    0.01        0.01\n",
      "   300    0.00        0.01\n",
      "   400    0.01        0.01\n",
      "   500    0.00        0.01\n"
     ]
    }
   ],
   "source": [
    "# Solution.\n",
    "\n",
    "# Create DataFrame containing the measured data.\n",
    "df_leakage = pd.DataFrame({\n",
    "    'U [V]': [0, 100, 200, 300, 400, 500],\n",
    "    'I [pA]': [0.01, 0.01, 0.01, 0.00, 0.01, 0.00],\n",
    "    'I_unc [pA]': [0.01, 0.01, 0.01, 0.01, 0.01, 0.01],\n",
    "})\n",
    "\n",
    "# Display the table.\n",
    "print(df_leakage.to_string(index=False))"
   ]
  },
  {
   "cell_type": "markdown",
   "id": "75fdc016",
   "metadata": {},
   "source": [
    "$\\color{red}{\\textbf{Task:}}$ Discuss whether it is necessary to correct all the measured ionization current values for the leakage current.\n"
   ]
  },
  {
   "cell_type": "markdown",
   "id": "de3d45df",
   "metadata": {},
   "source": [
    "$\\color{red}{\\textbf{Solution:}}$"
   ]
  },
  {
   "cell_type": "markdown",
   "id": "de4db111",
   "metadata": {},
   "source": [
    "# Activity of the radioactive sources\n",
    "\n",
    "There are two $^{239}\\mathrm{Pu}$ alpha-radiation sources: EA-13 and EA-14.\n",
    "Their activity was measured on 1. 12. 2020 and it is quoted in the next table together with the actual activity, evaluated using the decay law $A(t) = A_0 e^{t/T \\ln(1/2)}$, where $T = 24110 \\text{ years}$ is the half-life of the isotope, and $t$ is the time elapsed since the reference date."
   ]
  },
  {
   "cell_type": "code",
   "execution_count": 314,
   "id": "74c05876",
   "metadata": {},
   "outputs": [
    {
     "name": "stdout",
     "output_type": "stream",
     "text": [
      "Source  A_ref [1/s]  A_act [1/s]\n",
      " EA-13         99.5    99.485698\n",
      " EA-14       1485.0  1484.786551\n",
      "\n",
      "Activity ratio A(EA-14)/A(EA-13): 14.92\n"
     ]
    }
   ],
   "source": [
    "import numpy as np\n",
    "import pandas as pd\n",
    "\n",
    "# The reference activities of the 239Pu sources.\n",
    "a13_ref = 99.50\n",
    "a14_ref = 1485.00\n",
    "\n",
    "# The actual year.\n",
    "year = 2025\n",
    "\n",
    "# Calculate the actual activity of the radioactive 239Pu source,\n",
    "# given its reference activity and the time elapsed since the reference date.\n",
    "def actual_activity(a_ref, year):\n",
    "    T = 24110\n",
    "    t = year - 2020\n",
    "    return a_ref * np.exp(t / T * np.log(1/2))\n",
    "\n",
    "# Print a table summarizing the values.\n",
    "# Create a pandas dataframe for this purpose.\n",
    "data = {\n",
    "    \"Source\": [\"EA-13\", \"EA-14\"],\n",
    "    \"A_ref [1/s]\": [a13_ref, a14_ref],\n",
    "    \"A_act [1/s]\": [actual_activity(a13_ref, year), actual_activity(a14_ref, year)]\n",
    "}\n",
    "df_act = pd.DataFrame(data)\n",
    "print(df_act.to_string(index=False))\n",
    "print()\n",
    "\n",
    "# Print the activity ratio.\n",
    "print(f\"Activity ratio A(EA-14)/A(EA-13): {a14_ref/a13_ref:.2f}\")"
   ]
  },
  {
   "cell_type": "markdown",
   "id": "66b36acf",
   "metadata": {},
   "source": [
    "$\\color{red}{\\textbf{Task:}}$ Measure the activity of the two $^{239}\\mathrm{Pu}$ sources using the ionization chamber. Use the relation $A = 2 I E_i / (e E_k)$, where:\n",
    "- $A$ is the activity,\n",
    "- $I$ is the ionization current,\n",
    "- $E_i$ is the energy for an ion pair creation in air,\n",
    "- $e$ is the elementary charge,\n",
    "- $E_k$ is the kinetic energy of the emitted alpha particles. Do not forget that alpha particles from $^{239}\\mathrm{Pu}$ have several different energies.\n"
   ]
  },
  {
   "cell_type": "code",
   "execution_count": 315,
   "id": "6e5f71cb",
   "metadata": {},
   "outputs": [
    {
     "name": "stdout",
     "output_type": "stream",
     "text": [
      "Alpha particle energies and their intensities\n",
      "---------------------------------------------\n",
      " Energy [keV]  Energy_unc [keV]  Intensity [%]  Intensity_unc [%]\n",
      "      5111.20              0.20           0.03               0.03\n",
      "      5105.50              0.80          11.50               0.80\n",
      "      5144.30              0.80          15.10               0.80\n",
      "      5156.59              0.14          73.30               0.80\n",
      "\n",
      "Weighted average alpha particle energy: 5148.84+/-0.40 keV\n",
      "\n",
      "Measured activities of the sources\n",
      "----------------------------------\n",
      "Source Measured Activity [1/s]  Reference Activity [1/s]\n",
      " EA-13              70.4 ± 3.4                      99.5\n",
      " EA-14           1060.8 ± 33.9                    1485.0\n",
      "\n",
      "Measured activity ratio A(EA-14)/A(EA-13): 15.1+/-0.9\n"
     ]
    }
   ],
   "source": [
    "# Solution.\n",
    "\n",
    "from uncertainties import unumpy\n",
    "\n",
    "# Calculate the average alpha particle energy, first.\n",
    "# Create a DataFrame with the alpha particle energies and their intensities\n",
    "df_alpha = pd.DataFrame({\n",
    "    'Energy [keV]': [5111.2, 5105.5, 5144.3, 5156.59],\n",
    "    'Energy_unc [keV]': [0.2, 0.8, 0.8, 0.14],\n",
    "    'Intensity [%]': [0.03, 11.5, 15.1, 73.3],\n",
    "    'Intensity_unc [%]': [0.03, 0.8, 0.8, 0.8]\n",
    "})\n",
    "\n",
    "# Print the DataFrame\n",
    "print(\"Alpha particle energies and their intensities\")\n",
    "print('---------------------------------------------')\n",
    "print(df_alpha.to_string(index=False))\n",
    "print()\n",
    "\n",
    "# Create arrays of nominal values and uncertainties\n",
    "energies = unumpy.uarray(df_alpha['Energy [keV]'].values, df_alpha['Energy_unc [keV]'].values)\n",
    "intensities = unumpy.uarray(df_alpha['Intensity [%]'].values, df_alpha['Intensity_unc [%]'].values)\n",
    "\n",
    "# Calculate weighted average with proper uncertainty propagation\n",
    "weighted_energy = np.sum(energies * intensities) / np.sum(intensities)\n",
    "print(\"Weighted average alpha particle energy:\", f\"{weighted_energy:.2f} keV\")\n",
    "print()\n",
    "\n",
    "# Evaluate the activities of the sources, given the ionization current measurements\n",
    "ionization_currents = unumpy.uarray([0.83, 12.5], [0.04, 0.4]) * 1.e-12  # Convert pA to A\n",
    "activities = ionization_currents * 2 * 35 / (1.602e-19 * weighted_energy * 1e3)  # Convert keV to eV\n",
    "# Create a DataFrame to display the activities and uncertainties nicely\n",
    "df_activities = pd.DataFrame({\n",
    "    'Source': ['EA-13', 'EA-14'],\n",
    "    'Measured Activity [1/s]': [\n",
    "        f\"{activities[0].nominal_value:.1f} ± {activities[0].std_dev:.1f}\",\n",
    "        f\"{activities[1].nominal_value:.1f} ± {activities[1].std_dev:.1f}\"\n",
    "    ],\n",
    "    'Reference Activity [1/s]': [a13_ref, a14_ref]\n",
    "})\n",
    "\n",
    "print(\"Measured activities of the sources\")\n",
    "print('----------------------------------')\n",
    "print(df_activities.to_string(index=False))\n",
    "print()\n",
    "\n",
    "# Ratio of the activities\n",
    "print(\"Measured activity ratio A(EA-14)/A(EA-13):\", f\"{activities[1] / activities[0]:.1f}\")\n"
   ]
  },
  {
   "cell_type": "markdown",
   "id": "6b9494d0",
   "metadata": {},
   "source": [
    "$\\color{red}{\\textbf{Task:}}$ Compare the measured activity of both sources with the expected values and discuss any discrepancies. Do the same for the measured and expected activity ratio values."
   ]
  },
  {
   "cell_type": "markdown",
   "id": "62ff677a",
   "metadata": {},
   "source": [
    "# V-A characteristic of the Geiger-Müller detector"
   ]
  },
  {
   "cell_type": "markdown",
   "id": "ac96787e",
   "metadata": {},
   "source": [
    "$\\color{red}{\\textbf{Task:}}$ Measure the V-A characteristic of the Geiger-Müller detector."
   ]
  },
  {
   "cell_type": "code",
   "execution_count": 316,
   "id": "a86313cd",
   "metadata": {},
   "outputs": [
    {
     "name": "stdout",
     "output_type": "stream",
     "text": [
      " U [kV]  I [pA]  I_unc [pA]\n",
      "   0.00     0.0         0.0\n",
      "   0.50     0.0         0.0\n",
      "   1.00     1.5         0.5\n",
      "   1.10     3.0         0.5\n",
      "   1.20     4.0         0.8\n",
      "   1.30    20.0         5.0\n",
      "   1.40    70.0        10.0\n",
      "   1.42   100.0        30.0\n",
      "   1.45   140.0        30.0\n",
      "   1.48   200.0        50.0\n",
      "   1.50   300.0        50.0\n"
     ]
    }
   ],
   "source": [
    "# Solution.\n",
    "\n",
    "# Create DataFrame containing the measured data.\n",
    "df_gm = pd.DataFrame({\n",
    "    'U [kV]': [0.00, 0.50, 1.00, 1.10, 1.20, 1.30, 1.40, 1.42, 1.45, 1.48, 1.50],\n",
    "    'I [pA]': [0, 0, 1.5, 3.0, 4.0, 20, 70, 100, 140, 200, 300],\n",
    "    'I_unc [pA]': [0, 0, 0.5, 0.5, 0.8, 5, 10, 30, 30, 50, 50]\n",
    "})\n",
    "\n",
    "# Display the DataFrame\n",
    "print(df_gm.to_string(index=False))"
   ]
  },
  {
   "cell_type": "markdown",
   "id": "dc0146eb",
   "metadata": {},
   "source": [
    "$\\color{red}{\\textbf{Task:}}$ Fit the exponential model to the measured data and plot it.\n"
   ]
  },
  {
   "cell_type": "code",
   "execution_count": 317,
   "id": "a172142c",
   "metadata": {},
   "outputs": [
    {
     "name": "stdout",
     "output_type": "stream",
     "text": [
      "Parameter a: 3.86196612225469e-08 +/- 5.936623985548298e-08\n",
      "Parameter b: 15.180503481397484 +/- 1.0749295659373332\n",
      "Parameter c: 1.6887396479211827 +/- 0.4256555601329969\n"
     ]
    },
    {
     "data": {
      "image/png": "[encoded data removed]",
      "text/plain": [
       "<Figure size 640x480 with 1 Axes>"
      ]
     },
     "metadata": {},
     "output_type": "display_data"
    }
   ],
   "source": [
    "# Solution.\n",
    "\n",
    "import numpy as np\n",
    "import matplotlib.pyplot as plt\n",
    "\n",
    "# Define the exponential model function.\n",
    "def exponential_model(x, a, b, c):\n",
    "    return a * np.exp(b * x) + c\n",
    "\n",
    "# Get the voltage and current values from df_gm.\n",
    "U = df_gm['U [kV]'][2:]\n",
    "I = df_gm['I [pA]'][2:]\n",
    "I_unc = df_gm['I_unc [pA]'][2:]\n",
    "\n",
    "# Perform the fit.\n",
    "pars, cov = curve_fit(exponential_model, U, I, sigma=I_unc, absolute_sigma=True)\n",
    "\n",
    "# Print the fit parameters and their uncertainties.\n",
    "for param, value, uncertainty in zip(['a', 'b', 'c'], pars, np.sqrt(np.diag(cov))):\n",
    "    print(f\"Parameter {param}: {value} +/- {uncertainty}\")\n",
    "\n",
    "# Plot the data and the model.\n",
    "# ============================\n",
    "\n",
    "# Create a range of x values for the model.\n",
    "x_model = np.linspace(U.iloc[0], U.iloc[-1], 100)\n",
    "\n",
    "# Calculate the corresponding y values using the fitted parameters.\n",
    "y_model = exponential_model(x_model, *pars)\n",
    "\n",
    "# Create the plot.\n",
    "plt.errorbar(U, I, yerr=I_unc, fmt='o', label='Data', color='black')\n",
    "plt.plot(x_model, y_model, label='Fit', color='red')\n",
    "\n",
    "# Get the current legend handles and labels.\n",
    "handles, labels = plt.gca().get_legend_handles_labels()\n",
    "plt.legend(handles=handles[::-1], labels=labels[::-1])  # reverse the order\n",
    "\n",
    "# Axes, labels...\n",
    "plt.xlabel('U [kV]')\n",
    "plt.ylabel('I [pA]')\n",
    "plt.yscale('log')\n",
    "plt.title(\"V-A characteristic of the Geiger-Müller detector\")\n",
    "plt.show()"
   ]
  },
  {
   "cell_type": "markdown",
   "id": "8fa3ee6f",
   "metadata": {},
   "source": [
    "$\\color{red}{\\textbf{Task:}}$ Discuss the V-A characteristic of the Geiger-Müller detector, and the fitted exponential model. Identify characteristic regions of V-A dependence of the GM detector.\n"
   ]
  },
  {
   "cell_type": "markdown",
   "id": "de374050",
   "metadata": {},
   "source": [
    "$\\color{red}{\\textbf{Solution:}}$"
   ]
  }
 ],
 "metadata": {
  "kernelspec": {
   "display_name": "venv",
   "language": "python",
   "name": "python3"
  },
  "language_info": {
   "codemirror_mode": {
    "name": "ipython",
    "version": 3
   },
   "file_extension": ".py",
   "mimetype": "text/x-python",
   "name": "python",
   "nbconvert_exporter": "python",
   "pygments_lexer": "ipython3",
   "version": "3.10.12"
  }
 },
 "nbformat": 4,
 "nbformat_minor": 5
}
