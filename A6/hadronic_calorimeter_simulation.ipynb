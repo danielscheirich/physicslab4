{
 "cells": [
  {
   "cell_type": "markdown",
   "metadata": {},
   "source": [
    "**IMPORTANT: before starting, you need to run the following cell!**"
   ]
  },
  {
   "cell_type": "code",
   "execution_count": 37,
   "metadata": {},
   "outputs": [
    {
     "name": "stdout",
     "output_type": "stream",
     "text": [
      "Requirement already satisfied: numpy in /home/pleskot/git/physicslab4/venv/lib/python3.12/site-packages (2.3.2)\n",
      "Requirement already satisfied: matplotlib in /home/pleskot/git/physicslab4/venv/lib/python3.12/site-packages (3.10.6)\n",
      "Requirement already satisfied: scipy in /home/pleskot/git/physicslab4/venv/lib/python3.12/site-packages (1.16.1)\n",
      "Requirement already satisfied: pandas in /home/pleskot/git/physicslab4/venv/lib/python3.12/site-packages (2.3.2)\n",
      "Requirement already satisfied: uncertainties in /home/pleskot/git/physicslab4/venv/lib/python3.12/site-packages (3.2.3)\n",
      "Requirement already satisfied: contourpy>=1.0.1 in /home/pleskot/git/physicslab4/venv/lib/python3.12/site-packages (from matplotlib) (1.3.3)\n",
      "Requirement already satisfied: cycler>=0.10 in /home/pleskot/git/physicslab4/venv/lib/python3.12/site-packages (from matplotlib) (0.12.1)\n",
      "Requirement already satisfied: fonttools>=4.22.0 in /home/pleskot/git/physicslab4/venv/lib/python3.12/site-packages (from matplotlib) (4.59.2)\n",
      "Requirement already satisfied: kiwisolver>=1.3.1 in /home/pleskot/git/physicslab4/venv/lib/python3.12/site-packages (from matplotlib) (1.4.9)\n",
      "Requirement already satisfied: packaging>=20.0 in /home/pleskot/git/physicslab4/venv/lib/python3.12/site-packages (from matplotlib) (24.2)\n",
      "Requirement already satisfied: pillow>=8 in /home/pleskot/git/physicslab4/venv/lib/python3.12/site-packages (from matplotlib) (11.3.0)\n",
      "Requirement already satisfied: pyparsing>=2.3.1 in /home/pleskot/git/physicslab4/venv/lib/python3.12/site-packages (from matplotlib) (3.2.3)\n",
      "Requirement already satisfied: python-dateutil>=2.7 in /home/pleskot/git/physicslab4/venv/lib/python3.12/site-packages (from matplotlib) (2.9.0.post0)\n",
      "Requirement already satisfied: pytz>=2020.1 in /home/pleskot/git/physicslab4/venv/lib/python3.12/site-packages (from pandas) (2025.2)\n",
      "Requirement already satisfied: tzdata>=2022.7 in /home/pleskot/git/physicslab4/venv/lib/python3.12/site-packages (from pandas) (2025.2)\n",
      "Requirement already satisfied: six>=1.5 in /home/pleskot/git/physicslab4/venv/lib/python3.12/site-packages (from python-dateutil>=2.7->matplotlib) (1.17.0)\n"
     ]
    }
   ],
   "source": [
    "!pip install numpy matplotlib scipy pandas uncertainties"
   ]
  },
  {
   "cell_type": "markdown",
   "metadata": {},
   "source": [
    "# A6 Simulation of particle interactions in a hadronic calorimeter\n",
    "\n",
    "Computer modeling of the detector response to particle passage allows for the visualization of the passage of various particles through the calorimeter material in an interactive version and the calculation of particle energy losses in all parts of the calorimeter. A simple structure similar to the TileCal hadronic calorimeter [1], which is part of the ATLAS experiment [2] located at the LHC accelerator at CERN, is implemented in the simulation program. The simulation is programmed in Geant4 [3] and the ROOT [4] program is used to process the results. The calorimeter model, with a total length of $160~\\mathrm{cm}$, consists of 80 layers of scintillator and iron, and its transverse dimensions are $80\\times 80~\\mathrm{cm}^2$."
   ]
  },
  {
   "cell_type": "markdown",
   "metadata": {},
   "source": [
    "# Calorimeters\n",
    "\n",
    "Calorimeters measure the energy and direction of charged and neutral particles. Energy measurement is based on complete particle absorption. A high-energy particle entering the calorimeter interacts with its material, losing energy and creating secondary particles. These can create further particles in a cascade called a shower. The shower stops when the energy of each particle drops below a threshold. The original particle's direction is determined from the shower's transverse profile. There are homogeneous and sampling calorimeters. Sampling calorimeters use alternating layers of dense absorbers (like iron or lead) and active media (like ionization chambers or scintillators). Secondary particles are created in the absorber and deposit detectable energy in the active medium. The total signal is proportional to the original particle's energy."
   ]
  },
  {
   "cell_type": "markdown",
   "metadata": {},
   "source": [
    "### Particle interactions in the calorimeter\n",
    "\n",
    "Particles interact with calorimeter material in several ways. They are ordered according to how efficiently they deposit energy in the calorimeter:\n",
    "\n",
    "- Electromagnetic (EM) showers: Electrons ($e^-$), positrons ($e^+$), photons ($\\gamma$), and neutral pions ($\\pi^0$) create EM showers. High-energy photons convert to $e^-e^+$ pairs, which produce bremsstrahlung photons, repeating the process. $\\pi^0$ decays rapidly into two photons, also creating an EM shower.\n",
    "\n",
    "- Hadronic showers: All high-energy hadrons (except $\\pi^0$) produce hadronic showers, which have two components:\n",
    "  - An EM component from $\\pi^0$ production.\n",
    "  - A purely hadronic component, including secondary hadrons and \"invisible\" energy (energy used to break nuclei or carried away by non-interacting particles like neutrinos).\n",
    "Because of the \"invisible\" energy, an electron generally produces a larger signal than a hadron with the same initial energy. Also, interaction lengths for electrons/photons are much smaller than for hadrons.\n",
    "\n",
    "- Ionizing particles: Low-energy charged particles and muons lose energy primarily through ionization. Muons with energies of several hundred GeV deposit only a small fraction of their energy in calorimeters (about 1 GeV per meter in iron).\n",
    "\n",
    "- Non-interacting particles: Neutrinos interact only weakly and have such long mean free paths that they almost never interact in a calorimeter.\n"
   ]
  },
  {
   "cell_type": "markdown",
   "metadata": {},
   "source": [
    "### Calorimeter model\n",
    "\n",
    "In our specific case, the calorimeter model consists of layers of iron and scintillator in a similar ratio to that found in the ATLAS experiment's hadronic calorimeter at CERN. Approximately 3-4% of the energy is lost as particles pass through the scintillator, and this portion represents the measurable energy from a physics standpoint. Part of the energy deposited in the scintillator is emitted as light, which can be guided via optical fibers to a photomultiplier. Here, the light signal is converted into an electrical charge, which is then further processed."
   ]
  },
  {
   "cell_type": "markdown",
   "metadata": {},
   "source": [
    "### Energy measurement and resolution\n",
    "\n",
    "When measuring a particle's initial energy ($E_0$) in calorimeters, we use these principles:\n",
    "\n",
    "- The number of particles at the shower maximum is proportional to the initial energy: $N_{max} \\propto E_0$\n",
    "- The total track length of charged particles is proportional to the initial energy: $L \\propto E_0$\n",
    "- The measurable signal is proportional to the total track length: $E_{dep} \\propto L$\n",
    "\n",
    "Thus, in an ideal calorimeter, the visible shower energy is proportional to the initial particle energy. This relationship differs for electromagnetic (EM) and hadronic showers.\n",
    "In an ideal calorimeter (a perfect crystal), all absorbed energy is detected. The energy resolution is \n",
    "$$\n",
    "\\frac{\\sigma(E_{dep})}{E_{dep}} \\propto \\frac{\\sigma(N_{max})}{N_{max}} \\propto \\frac{1}{\\sqrt{N_{max}}} \\propto \\frac{1}{\\sqrt{E_0~[\\mathrm{GeV}]}},\n",
    "$$\n",
    "often written as\n",
    "$$\n",
    "\\frac{\\sigma(E_{dep})}{E_{dep}} = \\frac{a}{\\sqrt{E_0~[\\mathrm{GeV}]}},\n",
    "$$\n",
    "where $a$ is the stochastic/sampling term. In this text, $E_0$ is always given in GeV.\n",
    "\n",
    "In a real detector, energy resolution is also affected by noise (scaling as $b/E_0$) and a constant term $c$ representing detector imperfections (inhomogeneity, calibration errors, shower leakage, and differences in EM and hadronic shower responses ($e/h \\neq 1$)). The general formula for energy resolution is:\n",
    "$$\n",
    "\\frac{\\sigma(E_{dep})}{E_{dep}} = \\sqrt{\\frac{a^2}{E_0} \\oplus \\frac{b^2}{E_0^2} \\oplus c^2},\n",
    "$$\n",
    "where $\\oplus$ means the terms are added in quadrature. In simplified simulations where noise is negligible ($b = 0$), the formula becomes:\n",
    "$$\n",
    "\\frac{\\sigma(E_{dep})}{E_{dep}} = \\sqrt{\\frac{a^2}{E_0} + c^2}.\n",
    "$$\n",
    "A uniform calibration doesn't necessarily mean the constant term $c$ is zero.\n"
   ]
  },
  {
   "cell_type": "markdown",
   "metadata": {},
   "source": [
    "# Analysis"
   ]
  },
  {
   "cell_type": "markdown",
   "metadata": {},
   "source": [
    "Run the simulation program and observe the passage of various particles through the calorimeter. Analyze the energy deposition profiles, shower development, and other relevant quantities for different particle types and energies. Compare the behavior of electromagnetic and hadronic showers, as well as the interaction of muons and neutrinos with the calorimeter material. Investigate the stochastic fluctuations in shower development and the energy dependence of the observed properties.\n",
    "\n",
    "Expected Observations:\n",
    "\n",
    "- Electromagnetic Showers ($e^-$, $e^+$, $\\gamma$): Observe the characteristic EM shower development: pair production, bremsstrahlung, and the relatively compact shower profile. Compare the showers produced by electrons, positrons, and photons.\n",
    "- Hadronic Showers (protons, pions, etc.): Observe the more irregular and penetrating nature of hadronic showers compared to EM showers. Note the presence of secondary hadrons and the larger fluctuations in energy deposition.\n",
    "- Muons: Observe the minimal interaction of muons, primarily through ionization. They will deposit significantly less energy than other charged particles of the same energy.\n",
    "- Neutrinos: Observe the almost complete lack of interaction of neutrinos in the calorimeter.\n",
    "- Stochastic Fluctuations: Observe the variations in shower development between identical runs.\n",
    "- Charge Effects: Confirm there are no differences between positively and negatively charged particles.\n",
    "- Energy Dependence: Analyze how the shower properties (length, width, energy deposition) change with increasing energy."
   ]
  },
  {
   "cell_type": "markdown",
   "metadata": {},
   "source": [
    "### Interactive simulation"
   ]
  },
  {
   "cell_type": "markdown",
   "metadata": {},
   "source": [
    "$\\color{red}{\\textbf{Task:}}$ insert illustrations of the expected observations - images you produce using the simulation program, and an exemplary setting (particle type, and energy). Add a discussion of the observed phenomena under each image. Key questions to discuss are:\n",
    "- What physical processes create the shower, and what particles are produced?\n",
    "- How does the shower start, how does it evolve, and how does it end?\n",
    "- Does some energy escape the calorimeter?\n",
    "\n",
    "The following images must be included:\n",
    "- Electromagnetic shower ($\\sim 10~\\mathrm{GeV}$),\n",
    "- Hadronic interaction ($\\sim 10~\\mathrm{GeV}$)\n",
    "- Muons: stopping (see below in the text), $\\sim 10~\\mathrm{GeV}$, bremsstrahlung,\n",
    "- Decay $\\pi^0 \\rightarrow \\gamma \\gamma$ (see below in the text)\n",
    "- Anything else that catches the student's eye...\n",
    "\n",
    "Note that images are added using the markdown syntax `![title](image_path)`."
   ]
  },
  {
   "cell_type": "markdown",
   "metadata": {},
   "source": [
    "$\\color{red}{\\textbf{Solution:}}$"
   ]
  },
  {
   "cell_type": "markdown",
   "metadata": {},
   "source": [
    "$\\color{red}{\\textbf{Task:}}$ At what energy (roughly) will a muon still stop within the calorimeter? Formulate the answer and support it with an image."
   ]
  },
  {
   "cell_type": "markdown",
   "metadata": {},
   "source": [
    "$\\color{red}{\\textbf{Solution:}}$"
   ]
  },
  {
   "cell_type": "markdown",
   "metadata": {},
   "source": [
    "$\\color{red}{\\textbf{Task:}}$ What is roughly the critical energy of a muon at which it begins to create significant secondary showers. Formulate the answer and support it with an image."
   ]
  },
  {
   "cell_type": "markdown",
   "metadata": {},
   "source": [
    "$\\color{red}{\\textbf{Solution:}}$"
   ]
  },
  {
   "cell_type": "markdown",
   "metadata": {},
   "source": [
    "$\\color{red}{\\textbf{Task:}}$ Create a hadronic shower with two clearly separated 'cores' (primary and secondary interactions). Add an image with a brief description."
   ]
  },
  {
   "cell_type": "markdown",
   "metadata": {},
   "source": [
    "$\\color{red}{\\textbf{Solution:}}$"
   ]
  },
  {
   "cell_type": "markdown",
   "metadata": {},
   "source": [
    "$\\color{red}{\\textbf{Task:}}$ Decay $\\pi^0 \\rightarrow \\gamma \\gamma$; roughly at what energy can the showers from the two photons still be distinguished? Formulate the answer and support it with an image."
   ]
  },
  {
   "cell_type": "markdown",
   "metadata": {},
   "source": [
    "$\\color{red}{\\textbf{Solution:}}$"
   ]
  },
  {
   "cell_type": "markdown",
   "metadata": {},
   "source": [
    "### Batch simulation"
   ]
  },
  {
   "cell_type": "markdown",
   "metadata": {},
   "source": [
    "$\\color{red}{\\textbf{Task:}}$ Run the batch simulation for electron, charged pion and muon at a predefined fixed energy ($\\gtrsim 10~\\mathrm{GeV}$). The energy must be the same throughout all this exercise. Each particle is shot $N$ times to the calorimeter, and the calorimeter's response is analyzed statistically. The outcome of this task are three sets of plots (for electron, charged pion and muon) that you will insert here. Each set of plots consists of the following:\n",
    "1. Histogram of the particles' energy deposition in iron\n",
    "  - Note that this can be evaluated only in simulations, as iron doesn't produce a signal upon particle passage\n",
    "2. Histogram of the particles' energy deposition in scintillator\n",
    "3. Graph of the average particles' energy deposition in each iron calorimeter layer\n",
    "4. Graph of the average particles' energy deposition in each scintillator calorimeter layer\n",
    "5. Graph of the average particles' energy lateral leakage from each calorimeter layer (scintillator and iron)\n",
    "\n",
    "Discuss the connections of observations from interactive simulations (shower shape, shower randomness, particle stopping or decay) with:\n",
    "- The precision of energy measurement (resolution of the Gaussian in the scintillator: compare $e^-$ vs $\\pi^+$)\n",
    "- The total energy loss in the calorimeter (iron + scintillator)\n",
    "- The longitudinal shower profile\n",
    "- The total shower length\n",
    "- Energy leakage from the calorimeter\n",
    "- Energy loss of muons vs. muon stopping in the interactive simulation."
   ]
  },
  {
   "cell_type": "markdown",
   "metadata": {},
   "source": [
    "$\\color{red}{\\textbf{Solution:}}$"
   ]
  },
  {
   "cell_type": "markdown",
   "metadata": {},
   "source": [
    "### Energy scan\n",
    "\n",
    "Study the energy dependence of the calorimeter response and resolution for electrons or charged pions (choose one). Run the simulation for five energies in the range: $E_0 \\in (8, 50)~\\mathrm{GeV}$, e.g. $E_0 = 8, 13, 20, 30, 50~\\mathrm{GeV}$."
   ]
  },
  {
   "cell_type": "markdown",
   "metadata": {},
   "source": [
    "$\\color{red}{\\textbf{Task:}}$ Run the simulation, read in its outcome, and generate a table summarizing it. You will find the outcome in the file `scan.txt`.\n",
    "- You will get your own `scan.txt` file after running the simulation.\n",
    "- For instructions how to make it accessible to this notebook, see the cell in the end of this notebook.\n",
    "\n",
    "The table should contain the following five columns:\n",
    "- Particle energy, $E_0$\n",
    "- Average energy deposited in the scintilator, $E_\\mathrm{dep}$, and its uncertainty\n",
    "- Resolution of the energy deposited in the scintilator, $\\sigma(E_\\mathrm{dep})$, and its uncertainty\n",
    "\n",
    "Notes on the file `scan.txt` format:\n",
    "- Number of simulated events $N$ = `Number of events processed`.\n",
    "- Particle energy $E_0$ = `Beam particle E`.\n",
    "- Average deposited energy in iron or scintillator $E_\\mathrm{dep}$ = `Deposited Energy`\n",
    "  - It is the same quantity as Mean in upper histograms \"1\" and \"2\" in the previous \"Batch simulation\" task.\n",
    "  - N.B. The Gaussian distribution has two parameters: $\\mu$ and $\\sigma$. Their estimates are usually denoted as $\\hat{\\mu}$ and $\\hat{\\sigma}$.\n",
    "    - $\\hat{\\mu}$ is evaluated as the average of the $N$ measured values. Its uncertainty is estimated as $\\hat{\\sigma}/\\sqrt{N}$.\n",
    "    - $\\hat{\\sigma}$ is evaluated as the standard deviation of the $N$ measured values (see e.g. [this notebook](https://drive.google.com/file/d/1mGYAnvbuOJRIgQGiafFKDfvSh3O20hXq/view?usp=sharing)). Its uncertainty is estimated as $\\hat{\\sigma}/\\sqrt{2N}$.\n",
    "- Fluctuation of deposited energy in iron or scintillator $\\sigma(E_\\mathrm{dep})$ = `Resolution`\n",
    "  - It is the same quantity as Sigma in upper histograms \"1\" and \"2\" in the previous \"Batch simulation\" task."
   ]
  },
  {
   "cell_type": "code",
   "execution_count": 1,
   "metadata": {},
   "outputs": [
    {
     "name": "stdout",
     "output_type": "stream",
     "text": [
      "   E_0 [GeV]  E_dep [GeV]  E_dep_unc [GeV]  sigma_E_dep [GeV]  \\\n",
      "0        8.0      0.19488         0.000487            0.02802   \n",
      "1       13.0      0.31783         0.000622            0.03703   \n",
      "2       20.0      0.49075         0.000798            0.04754   \n",
      "3       30.0      0.74206         0.001030            0.06112   \n",
      "4       50.0      1.24000         0.001400            0.08231   \n",
      "\n",
      "   sigma_E_dep_unc [GeV]  \n",
      "0               0.000346  \n",
      "1               0.000428  \n",
      "2               0.000596  \n",
      "3               0.000748  \n",
      "4               0.001070  \n"
     ]
    }
   ],
   "source": [
    "# Insert your code here.\n",
    "\n",
    "from pandas import DataFrame\n",
    "\n",
    "# Create a DataFrame\n",
    "data = {'E_0'            : [x/1000 for x in [8000, 13000, 20000, 30000, 50000]], \n",
    "        'E_dep'          : [x/1000 for x in [194.88 , 317.83 , 490.75 , 742.06 , 1240]], \n",
    "        'E_dep_unc'      : [x/1000 for x in [0.48695, 0.62212, 0.79772, 1.03   , 1.40]],\n",
    "        'sigma_E_dep'    : [x/1000 for x in [28.02  , 37.03  , 47.54  , 61.12  , 82.31]],\n",
    "        'sigma_E_dep_unc': [x/1000 for x in [0.34554, 0.42843, 0.59638, 0.74750, 1.07]],\n",
    "        }\n",
    "display_names = {'E_0'            : 'E_0 [GeV]',\n",
    "                 'E_dep'          : 'E_dep [GeV]',\n",
    "                 'E_dep_unc'      : 'E_dep_unc [GeV]',\n",
    "                 'sigma_E_dep'    : 'sigma_E_dep [GeV]',\n",
    "                 'sigma_E_dep_unc': 'sigma_E_dep_unc [GeV]',\n",
    "                }\n",
    "df = DataFrame(data)\n",
    "print(df.rename(columns=display_names))"
   ]
  },
  {
   "cell_type": "markdown",
   "metadata": {},
   "source": [
    "$\\color{red}{\\textbf{Task:}}$ For the scintillator, plot and fit the linear dependence of the response $E_\\mathrm{dep}$ on $E_0$.\n",
    "- Don't forget the uncertainties on the $y$-axis!\n",
    "- When evaluating the fit function uncertainty, don't forget to take into account the full covariance matrix of the fitted parameters.\n",
    "- Print the fit parameters and their uncertainties on the screen."
   ]
  },
  {
   "cell_type": "code",
   "execution_count": 2,
   "metadata": {},
   "outputs": [
    {
     "name": "stdout",
     "output_type": "stream",
     "text": [
      "Requirement already satisfied: uncertainties in /home/pleskot/git/physicslab4/venv/lib/python3.12/site-packages (3.2.3)\n"
     ]
    }
   ],
   "source": [
    "# You might need to install the uncertainties library. You can comment out the following line if you have installed it, already.\n",
    "!pip install uncertainties"
   ]
  },
  {
   "cell_type": "code",
   "execution_count": 3,
   "metadata": {},
   "outputs": [
    {
     "data": {
      "image/png": "[encoded data removed]",
      "text/plain": [
       "<Figure size 640x480 with 1 Axes>"
      ]
     },
     "metadata": {},
     "output_type": "display_data"
    },
    {
     "name": "stdout",
     "output_type": "stream",
     "text": [
      "a = 0.024872+/-0.000030\n",
      "b = -0.0049+/-0.0006 GeV\n"
     ]
    }
   ],
   "source": [
    "# Insert your code here.\n",
    "\n",
    "import matplotlib.pyplot as plt\n",
    "import matplotlib as mpl\n",
    "import numpy as np\n",
    "from scipy.optimize import curve_fit\n",
    "import uncertainties\n",
    "from uncertainties import ufloat, unumpy\n",
    "\n",
    "def plot(x, y, y_err, x_fit, y_fit, xlabel, ylabel):\n",
    "\n",
    "    # draw x, y with error bars\n",
    "    plt.errorbar(x, y, y_err, fmt='o', label='Data', color='black')\n",
    "\n",
    "    # draw the fit function and its uncertainty band\n",
    "    plt.plot(x_fit, y_fit, color='red', linewidth=2, label='Fit')\n",
    "\n",
    "    # get the current legend handles and labels and reverse their order\n",
    "    handles, labels = plt.gca().get_legend_handles_labels()\n",
    "    plt.legend(handles=handles[::-1], labels=labels[::-1])\n",
    "\n",
    "    # finally, plot\n",
    "    plt.plot(x_fit, y_fit, 'r-')\n",
    "    plt.xlabel(xlabel)\n",
    "    plt.ylabel(ylabel)\n",
    "    plt.show()\n",
    "\n",
    "    return\n",
    "\n",
    "\n",
    "# define the linear fit function\n",
    "def linear(x, a, b):\n",
    "    return a*x + b\n",
    "\n",
    "# fit the linear function to the data; choose the correct line to perform the fit\n",
    "nom_ab, cov_ab = curve_fit(linear, df['E_0'], df['E_dep'], sigma=df['E_dep_unc'], absolute_sigma=True)\n",
    "# nom_ab, cov_ab = curve_fit(linear, df['E_0'], df['E_dep'])\n",
    "# nom_ab, cov_ab = curve_fit(linear, df['E_0'], df['E_dep'], sigma=np.ones_like(df['E_dep']), absolute_sigma=True)\n",
    "\n",
    "# to draw the fit function and its uncertainty band, we need to evaluate the fit function at many points\n",
    "x = np.linspace(df['E_0'].min(), df['E_0'].max(), 100)\n",
    "a, b = uncertainties.correlated_values(nom_ab, cov_ab)\n",
    "y_fit_uarray = linear(x, a, b)\n",
    "y_fit     = unumpy.nominal_values(y_fit_uarray)\n",
    "\n",
    "# plot the data and the fit function with its uncertainty band\n",
    "plot(df['E_0'], df['E_dep'], df['E_dep_unc'], x, y_fit, '$E_0$ [GeV]', r'$E_\\mathrm{dep}$ [GeV]')\n",
    "\n",
    "# print the fit parameters\n",
    "print('a =', a)\n",
    "print('b =', b,'GeV')"
   ]
  },
  {
   "cell_type": "markdown",
   "metadata": {},
   "source": [
    "$\\color{red}{\\textbf{Task:}}$ Calculate the quality of the fit ($\\chi^2/\\mathrm{NDF}$), and print it on the screen."
   ]
  },
  {
   "cell_type": "code",
   "execution_count": 4,
   "metadata": {},
   "outputs": [
    {
     "name": "stdout",
     "output_type": "stream",
     "text": [
      "Chi-squared: 10.156640923793864\n",
      "Degrees of freedom: 3\n",
      "Reduced chi-squared: 3.3855469745979545\n"
     ]
    }
   ],
   "source": [
    "# Calcutate the chi2 value and the degrees of freedom\n",
    "\n",
    "# Calculate residuals\n",
    "residuals = df['E_dep'] - linear(df['E_0'], *nom_ab)\n",
    "\n",
    "# Calculate chi-squared\n",
    "chi_squared = np.sum((residuals / df['E_dep_unc']) ** 2)\n",
    "\n",
    "# Degrees of freedom\n",
    "degrees_of_freedom = len(df['E_0']) - len(nom_ab) \n",
    "\n",
    "print(f\"Chi-squared: {chi_squared}\")\n",
    "print(f\"Degrees of freedom: {degrees_of_freedom}\")\n",
    "print(f\"Reduced chi-squared: {chi_squared / degrees_of_freedom}\")\n"
   ]
  },
  {
   "cell_type": "markdown",
   "metadata": {},
   "source": [
    "$\\color{red}{\\textbf{Task:}}$ For the scintillator, fit and plot the dependence of the resolution $\\sigma(E_\\mathrm{dep})/E_\\mathrm{dep}$ on $E_0$.\n",
    "- Don't forget the uncertainties on the $y$-axis!\n",
    "- When evaluating the fit function uncertainty, don't forget to take into account the full covariance matrix of the fitted parameters.\n",
    "- Print the fit parameters and their uncertainties on the screen."
   ]
  },
  {
   "cell_type": "code",
   "execution_count": 5,
   "metadata": {},
   "outputs": [
    {
     "data": {
      "image/png": "[encoded data removed]",
      "text/plain": [
       "<Figure size 640x480 with 1 Axes>"
      ]
     },
     "metadata": {},
     "output_type": "display_data"
    },
    {
     "data": {
      "text/latex": [
       "$a = 0.398+/-0.005~\\mathrm{GeV}^{1/2}$"
      ],
      "text/plain": [
       "<IPython.core.display.Latex object>"
      ]
     },
     "metadata": {},
     "output_type": "display_data"
    },
    {
     "data": {
      "text/latex": [
       "$c = 0.0365+/-0.0021$"
      ],
      "text/plain": [
       "<IPython.core.display.Latex object>"
      ]
     },
     "metadata": {},
     "output_type": "display_data"
    }
   ],
   "source": [
    "# Insert your code here.\n",
    "\n",
    "from IPython.display import display, Latex\n",
    "\n",
    "# define the resolution function\n",
    "def resolution(E_0, a, c):\n",
    "    return np.sqrt(a**2/E_0 + c**2)\n",
    "\n",
    "# calculate the the relative energy resolution and its uncertainty\n",
    "E_dep_unumpy       = unumpy.uarray(df['E_dep']      , df['E_dep_unc'])\n",
    "sigma_E_dep_unumpy = unumpy.uarray(df['sigma_E_dep'], df['sigma_E_dep_unc'])\n",
    "rel_res_unc        = sigma_E_dep_unumpy / E_dep_unumpy\n",
    "\n",
    "# fit the resolution function to the data\n",
    "nom_ac, cov_ac = curve_fit(resolution, df['E_0'], unumpy.nominal_values(rel_res_unc), sigma=unumpy.std_devs(rel_res_unc), absolute_sigma=True)\n",
    "# nom_ac, cov_ac = curve_fit(resolution, df['E_0'], unumpy.nominal_values(rel_res_unc))\n",
    "# nom_ac, cov_ac = curve_fit(resolution, df['E_0'], unumpy.nominal_values(rel_res_unc), sigma=np.ones_like(df['E_0']), absolute_sigma=True)\n",
    "\n",
    "# to draw the fit function and its uncertainty band, we need to evaluate the fit function at many points\n",
    "x = np.linspace(df['E_0'].min(), df['E_0'].max(), 100)\n",
    "a, c = uncertainties.correlated_values(nom_ac, cov_ac)\n",
    "wrapped_resolution = uncertainties.wrap(resolution)\n",
    "y_fit_list = [wrapped_resolution(x, a, c) for x in x]\n",
    "y_fit     = np.array([y.nominal_value for y in y_fit_list])\n",
    "\n",
    "# plot the data and the fit function with its uncertainty band\n",
    "plot(df['E_0'], unumpy.nominal_values(rel_res_unc), unumpy.std_devs(rel_res_unc), x, y_fit, '$E_0$ [GeV]', r'$\\sigma(E_\\mathrm{dep}) / E_\\mathrm{dep}$')\n",
    "\n",
    "# print the fit parameters\n",
    "display(Latex(f'$a = {a}~\\\\mathrm{{GeV}}^{{1/2}}$'))\n",
    "display(Latex(f'$c = {c}$'))"
   ]
  },
  {
   "cell_type": "markdown",
   "metadata": {},
   "source": [
    "$\\color{red}{\\textbf{Task:}}$ Calculate the quality of the fits ($\\chi^2/\\mathrm{NDF}$), and print it on the screen."
   ]
  },
  {
   "cell_type": "code",
   "execution_count": 6,
   "metadata": {},
   "outputs": [
    {
     "name": "stdout",
     "output_type": "stream",
     "text": [
      "Chi-squared: 2.903564888608614\n",
      "Degrees of freedom: 3\n",
      "Reduced chi-squared: 0.967854962869538\n"
     ]
    }
   ],
   "source": [
    "# Calcutate the chi2 value and the degrees of freedom\n",
    "\n",
    "# Calculate residuals\n",
    "residuals = df['sigma_E_dep'] / df['E_dep'] - resolution(df['E_0'], *nom_ac)\n",
    "\n",
    "# Calculate chi-squared\n",
    "chi_squared = np.sum((residuals / (df['sigma_E_dep_unc'] / df['E_dep'])) ** 2)\n",
    "\n",
    "# Degrees of freedom\n",
    "degrees_of_freedom = len(df['E_0']) - len(nom_ac) \n",
    "\n",
    "print(f\"Chi-squared: {chi_squared}\")\n",
    "print(f\"Degrees of freedom: {degrees_of_freedom}\")\n",
    "print(f\"Reduced chi-squared: {chi_squared / degrees_of_freedom}\")\n"
   ]
  },
  {
   "cell_type": "markdown",
   "metadata": {},
   "source": [
    "$\\color{red}{\\textbf{Task:}}$ Discuss the numerical values of the fitted parameters in the protocol: \n",
    "- Is $c$ compatible with zero?\n",
    "- Does $a$ correspond in order of magnitude to the values from the PDG tables [5]?"
   ]
  },
  {
   "cell_type": "markdown",
   "metadata": {},
   "source": [
    "$\\color{red}{\\textbf{Solution:}}$"
   ]
  },
  {
   "cell_type": "markdown",
   "metadata": {},
   "source": [
    "$\\color{red}{\\textbf{Task:}}$ Print the content of the file `scan.txt` in the protocol."
   ]
  },
  {
   "cell_type": "code",
   "execution_count": 7,
   "metadata": {},
   "outputs": [],
   "source": [
    "# Feel free to modify to modify the following code if it does not work for you.\n",
    "# There are many possible locations of the scan.txt file.\n",
    "\n",
    "# # 1) Print just the example scan.txt file.\n",
    "# !wget https://raw.githubusercontent.com/vojtechpleskot/physicslab4/main/A6/scan.txt\n",
    "# with open('scan.txt', 'r') as file:\n",
    "#     print(file.read())\n",
    "\n",
    "# # 2) If it is on your Google Drive:\n",
    "# #    In Google Colab, you have to mount your Google Drive to the Colab environment.\n",
    "# #    Note that you will be asked to grant permission to access your Google Drive.\n",
    "# from google.colab import drive\n",
    "# drive.mount('/content/drive')\n",
    "\n",
    "# #    In Google Colab, you have to read the data from your Google Drive. Change the path to the file below!\n",
    "# with open('/content/drive/MyDrive/ipnp/physics_labs/2024/scan.txt', 'r') as file:\n",
    "#     print(file.read())\n",
    "\n",
    "\n",
    "# # 3) If it is on your local file system and you are running Jupyter Notebook on your local machine:\n",
    "# #    - Change the path to the file below!\n",
    "# with open('scan.txt', 'r') as file:\n",
    "#     print(file.read())"
   ]
  },
  {
   "cell_type": "markdown",
   "metadata": {},
   "source": [
    "# Literature\n",
    "\n",
    "[1] ATLAS Collaboration, Readiness of the ATLAS Tile Calorimeter for LHC collisions, Eur. Phys. J. C 70 (2010) s. 1193–1236, arXiv: 1007.5423\n",
    "\n",
    "[2] ATLAS Collaboration), The ATLAS Experiment at the CERN Large Hadron Collider, JINST 3 (2008) S08003, http://cdsweb.cern.ch/record/1129811, https://atlas.cern\n",
    "\n",
    "[3] Geant4 Collaboration, Geant4 - A Simulation Toolkit, Nucl. Instrum. Meth. A 506 (2003) 250-303, https://geant4.web.cern.ch \n",
    "\n",
    "[4] R. Brun, F. Rademakers a S. Panacek, ROOT, an object oriented data analysis framework, CERN School of Computing (CSC 2000) (2000) s. 11–42, https://root.cern.ch\n",
    "\n",
    "[5] Particle Data Group, The Review of Particle Physics (2024), to be published in Phys. Rev. D 110 (2024) s. 030001, Section 35.10 ’Calorimeters’ in https://pdg.lbl.gov/2024/web/viewer.html?file=../reviews/rpp2024-rev-particle-detectors-accel.pdf"
   ]
  }
 ],
 "metadata": {
  "kernelspec": {
   "display_name": "venv",
   "language": "python",
   "name": "python3"
  },
  "language_info": {
   "codemirror_mode": {
    "name": "ipython",
    "version": 3
   },
   "file_extension": ".py",
   "mimetype": "text/x-python",
   "name": "python",
   "nbconvert_exporter": "python",
   "pygments_lexer": "ipython3",
   "version": "3.12.7"
  }
 },
 "nbformat": 4,
 "nbformat_minor": 2
}
