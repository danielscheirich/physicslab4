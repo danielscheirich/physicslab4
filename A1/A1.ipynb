{
 "cells": [
  {
   "cell_type": "markdown",
   "id": "132234fa",
   "metadata": {},
   "source": [
    "# Particle physics at the LHC\n",
    "\n",
    "The Standard Model (SM) is our most successful theory for describing the fundamental building blocks of the universe and how they interact. The basic particles are quarks and leptons, which are fermions with a spin of 1/2. Four fundamental forces act on these particles: electromagnetic, strong, weak, and gravity. These forces are mediated by the exchange of bosons. The SM, however, does not describe gravity.\n",
    "\n",
    "## Z and Higgs bosons\n",
    "The Z boson is a neutral particle that, along with the charged W bosons, mediates the weak force. The Z boson is produced in large numbers in high-energy proton collisions at the Large Hadron Collider (LHC). It has a mass of 91 GeV and a very short lifetime, decaying into lighter particles almost instantly. These lighter decay products, such as pairs of charged leptons (like electrons and muons), are what scientists actually detect.\n",
    "\n",
    "The Higgs boson was the last particle of the Standard Model to be discovered, confirmed in 2012 by the ATLAS and CMS experiments at CERN. It has a mass of approximately 125 GeV and, like the Z boson, is highly unstable and decays rapidly. The Higgs boson is never observed directly; instead, its decay products are detected.\n",
    "\n",
    "## Searching for new physics\n",
    "\n",
    "The LHC's high-energy proton collisions open up the possibility of discovering new particles beyond the Standard Model. One theoretical prediction is the existence of a heavier version of the Z boson, called the Z' boson. Its properties are expected to be similar to the Z boson, but its higher mass would make it a signature of \"new physics.\"\n",
    "\n",
    "## Background and signal\n",
    "\n",
    "In particle collisions, many different particles are produced. Signal refers to the particles of interest (like Z or Higgs bosons), while background includes all other processes that have a similar final state and are difficult to distinguish from the signal. To separate the signal from the background, physicists use specific criteria, such as checking the total charge of the decay products. Some background processes are \"irreducible,\" meaning they cannot be removed and must be accounted for in the statistical analysis.\n",
    "\n",
    "## Event reconstruction\n",
    "\n",
    "Since both Z and Higgs bosons are too short-lived to be detected directly, physicists analyze their decay products. The energy and momentum of the decay products are used to reconstruct the mass of the original \"parent\" particle using Einstein's famous relation $E=mc^2$ and the laws of conservation of energy and momentum. By plotting the reconstructed mass from many events in a histogram, a peak can appear at the unique mass of the parent particle, allowing scientists to identify it. This method helps to confirm the existence of known particles and to search for new, hypothetical ones. If the mother particle decays into two daughter particles, then its mass can be determined using the formula:\n",
    "\n",
    "$m_0 c^2 = \\sqrt{(E_1 + E_2)^2 - |\\vec{p}_1 + \\vec{p}_2|^2 c^2}$,\n",
    "\n",
    "where $m_0$ is the rest mass of the mother particle, $E_1$ and $E_2$ are the energies of the daughter particles, and $\\vec{p}_1$ and $\\vec{p}_2$ are their momentum vectors.\n",
    "The quantity $m_0$ is often referred to as the invariant mass, when evaluated using the system of daughter particles.\n",
    "\n",
    "The mass we measure is not a single, exact value; it fluctuates around a central value. The width of the peak is influenced by factors like the particle's natural lifetime and the detector's resolution. As we collect more data, the number of events in the peak increases, which allows us to determine the particle's mass with greater certainty.\n",
    "To find the exact mass, we often fit a normal distribution (a Gaussian curve) to the peak. The Gaussian curve is parametrized by two parameters: the mean value, $\\mu$, and the width, $\\sigma$. The fit gives us estimates of the two parameters, $\\hat{\\mu}$ and $\\hat{\\sigma}$. Being estimates based on a finite number of events, they suffer from the statistical uncertainty. The uncertainty can also be estimated, and it decreases with the square root of the number of events:\n",
    "\n",
    "$\\hat{\\sigma}_{\\hat{\\mu}} \\propto \\frac{1}{\\sqrt{N}}$,\n",
    "\n",
    "$\\hat{\\sigma}_{\\hat{\\sigma}} \\propto \\frac{1}{\\sqrt{2N}}$,\n",
    "\n",
    "where $\\hat{\\sigma}_{\\hat{\\mu}}$ and $\\hat{\\sigma}_{\\hat{\\sigma}}$ are the uncertainties on $\\hat{\\mu}$ and $\\hat{\\sigma}$, and $N$ is the number of events in the peak."
   ]
  },
  {
   "cell_type": "markdown",
   "id": "3ade94bc",
   "metadata": {},
   "source": [
    "# Analyzing ATLAS events using Hypatia\n",
    "\n",
    "The ATLAS experiment at CERN uses a large detector to register particles created in proton collisions. The detector measures the properties of these particles, such as their type, charge, momentum, and energy. We use a program called Hypatia to visualize these events and search for those that contain decay products of Z and Higgs bosons.\n",
    "While these bosons can decay into various particles, we focus on the Z decays into pairs of charged leptons (electrons or muons) and the H decays into pairs of photons; also, H decays into four leptons are sought. These decay channels are easier to identify than others and have lower background.\n",
    "\n",
    "## ATLAS layout\n",
    "\n",
    "The ATLAS detector is a complex, multi-layered instrument designed to capture a wide range of particles. Its main components include:\n",
    "\n",
    "1. **Inner Detector**: This is where charged particles are tracked. It consists of silicon pixel and strip detectors, as well as a transition radiation tracker (TRT) for identifying high-energy electrons.\n",
    "\n",
    "2. **Calorimeters**: These are used to measure the energy of particles. The electromagnetic calorimeter is designed to absorb photons and electrons, while the hadronic calorimeter (together with the electromagnetic calorimeter) absorbs hadrons.\n",
    "\n",
    "3. **Muon System**: This detects muons. Muons interact weakly with matter, allowing them to penetrate the inner detector and calorimeters. The muon system is located outside the calorimeters and consists of several layers of detectors.\n",
    "\n",
    "4. **Magnets**: A large superconducting solenoidal magnet surrounds the inner detector, creating a magnetic field that bends the paths of charged particles. This allows for the measurement of their momentum. Another huge magnet system, consisting of toroidal magnets, surrounds the calorimeters and muon system to provide additional bending power for muons.\n",
    "\n",
    "\n",
    "## Particle identification\n",
    "\n",
    "At the ATLAS experiment, scientists identify particles by observing how they interact with the detector's different layers. Each particle leaves a unique \"signature\" that helps us determine its properties.\n",
    "The following image illustrates how different particles interact with the various components of the ATLAS detector:\n",
    "\n",
    "![Particle signatures in the ATLAS detector](particle_identification.png)\n",
    "\n"
   ]
  },
  {
   "cell_type": "markdown",
   "id": "2c6ee7a8",
   "metadata": {},
   "source": [
    "### Electrons and Positrons\n",
    "\n",
    "These charged particles leave a track in the inner detector and deposit all their energy in the electromagnetic calorimeter. They leave no trace in the other layers. We distinguish between an electron and a positron by their opposite charge, which makes their paths curve in different directions within the detector's magnetic field.\n",
    "\n",
    "$\\color{red}{\\textbf{Task:}}$ Identify electron-positron pairs in the provided event images. Look for tracks in the inner detector that curve due to the magnetic field and end with a cluster of energy in the electromagnetic calorimeter. Insert one with an identified electron-positron pair below:\n"
   ]
  },
  {
   "cell_type": "markdown",
   "id": "7e195b75",
   "metadata": {},
   "source": [
    "$\\color{red}{\\textbf{Solution:}}$\n",
    "\n",
    "<!-- Insert the image here using the following syntax: ![Electron-positron pair](electron_positron_example.png) -->\n",
    "![Electron-positron pair](electron_positron_example.png)"
   ]
  },
  {
   "cell_type": "markdown",
   "id": "f738d78b",
   "metadata": {},
   "source": [
    "### Muons\n",
    "\n",
    "Muons are also charged and leave a track in the inner detector. However, they are much heavier than electrons, so they only lose a small amount of energy in the calorimeters and are the only particles that can travel all the way through to the outermost muon chambers.\n",
    "\n",
    "$\\color{red}{\\textbf{Task:}}$ Identify muon-antimuon pairs in the provided event images. Look for tracks in the inner detector that continue through the calorimeters and hit the muon detectors. Insert one with an identified muon-antimuon pair below:\n"
   ]
  },
  {
   "cell_type": "markdown",
   "id": "d6672c7d",
   "metadata": {},
   "source": [
    "$\\color{red}{\\textbf{Solution:}}$\n",
    "\n",
    "<!-- Insert the image here using the following syntax: ![muon-antimuon pair](muon_antimuon_example.png) -->\n",
    "![muon-antimuon pair](muon_antimuon_example.png)"
   ]
  },
  {
   "cell_type": "markdown",
   "id": "6cf2e750",
   "metadata": {},
   "source": [
    "### Photons\n",
    "\n",
    "As neutral particles, photons do not leave a track in the inner detector. They are identified by the energy they deposit in the electromagnetic calorimeter.\n",
    "\n",
    "$\\color{red}{\\textbf{Task:}}$ Identify photon pairs in the provided event images. Look for clusters of energy in the electromagnetic calorimeter without corresponding tracks in the inner detector. Insert one with an identified photon pair below:\n"
   ]
  },
  {
   "cell_type": "markdown",
   "id": "73a610b0",
   "metadata": {},
   "source": [
    "$\\color{red}{\\textbf{Solution:}}$\n",
    "\n",
    "<!-- Insert the image here using the following syntax: ![Photon pair](photon_pair_example.png) -->\n",
    "![Photon pair](photon_pair_example.png)\n"
   ]
  },
  {
   "cell_type": "markdown",
   "id": "9081e96e",
   "metadata": {},
   "source": [
    "### Neutrinos\n",
    "\n",
    "Since neutrinos do not interact with the detector, they are invisible. However, we can infer their presence using the principle of momentum conservation. If the total momentum of all detected particles after a collision is imbalanced, we can conclude that the missing momentum was carried away by one or more neutrinos. This \"missing transverse energy\" is a clear sign that neutrinos were produced.\n"
   ]
  },
  {
   "cell_type": "markdown",
   "id": "f3c220ef",
   "metadata": {},
   "source": [
    "# Particle discoveries and hypothesis testing\n",
    "\n",
    "Every process measured at the LHC has a background of unwanted particles. To distinguish the signal (the particles we are looking for) from this background, we often create a histogram of \"invariant mass.\" Particles that come from the same parent particle will cluster at a specific mass, forming a sharp peak in the histogram. Random background particles, however, will be spread out, forming a smooth, continuous distribution.\n",
    "\n",
    "For common particles like the Z boson, the signal peak is easily visible. But for rare or new hypothetical particles, the signal might just be a tiny bump that is hard to distinguish from a random fluctuation in the background.\n",
    "\n",
    "To determine with confidence if we've made a discovery, we use statistical hypothesis testing. We start with a null hypothesis, $H_0$: that the new particle does not exist, and the data is just a sample of the background processes. We also have an alternative hypothesis, $H_1$: that the new particle does exist.\n",
    "\n",
    "The goal is to gather enough evidence from the data to reject the null hypothesis. We create a test statistic and calculate a \"p-value,\" which is the probability that our observed data would occur by random chance if the null hypothesis were true. For a discovery to be declared in particle physics, the p-value must be extremely low, typically less than $3 \\times 10^{-7}$.\n",
    "This corresponds to the so-called \"significance\" of $5\\sigma$, which is the gold standard for a discovery.\n",
    "\n",
    "In simple terms, a $5\\sigma$ discovery means there is only about a 1 in 3.5 million chance that the observed signal (the peak on a smooth curve) is just a random fluctuation. This high level of certainty is required before physicists can announce a new particle discovery.\n",
    "\n"
   ]
  }
 ],
 "metadata": {
  "language_info": {
   "name": "python"
  }
 },
 "nbformat": 4,
 "nbformat_minor": 5
}
