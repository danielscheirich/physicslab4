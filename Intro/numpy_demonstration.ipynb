{
  "nbformat": 4,
  "nbformat_minor": 0,
  "metadata": {
    "colab": {
      "provenance": []
    },
    "kernelspec": {
      "name": "python3",
      "display_name": "Python 3"
    },
    "language_info": {
      "name": "python"
    }
  },
  "cells": [
    {
      "cell_type": "markdown",
      "source": [
        "Numpy is a powerfull tool for numerical calculations. Its main strength is an efficient work with arrays. The key class is `ndarray`. Many scientific libraries build on numpy."
      ],
      "metadata": {
        "id": "BYmRucfa2sKZ"
      }
    },
    {
      "cell_type": "code",
      "source": [
        "import numpy as np\n",
        "a = np.array([1, 2, 3])"
      ],
      "metadata": {
        "id": "EGEwcOvE3QpK"
      },
      "execution_count": null,
      "outputs": []
    },
    {
      "cell_type": "markdown",
      "source": [
        "Arrays can be used as mathematical function or operators arguments, performing element-wise operations:"
      ],
      "metadata": {
        "id": "z14ZQNe53rWe"
      }
    },
    {
      "cell_type": "code",
      "source": [
        "a_squared = a ** 2\n",
        "print(a_squared)\n",
        "print(np.sqrt(a))"
      ],
      "metadata": {
        "id": "8yBFflD138fD",
        "colab": {
          "base_uri": "https://localhost:8080/"
        },
        "outputId": "9a239a68-116d-4169-f0d2-6423370a7071"
      },
      "execution_count": null,
      "outputs": [
        {
          "output_type": "stream",
          "name": "stdout",
          "text": [
            "[1 4 9]\n",
            "[1.         1.41421356 1.73205081]\n"
          ]
        }
      ]
    },
    {
      "cell_type": "markdown",
      "source": [
        "Arrays can be multiplied by other arrays. Element-by-element operations are performed."
      ],
      "metadata": {
        "id": "Z6H9IwJ34UNb"
      }
    },
    {
      "cell_type": "code",
      "source": [
        "a_cubed = a * a_squared\n",
        "print(a_cubed)"
      ],
      "metadata": {
        "id": "bfraR7tO4hjP",
        "colab": {
          "base_uri": "https://localhost:8080/"
        },
        "outputId": "99d2ba45-bab8-4d5f-f399-82fc3453bab8"
      },
      "execution_count": null,
      "outputs": [
        {
          "output_type": "stream",
          "name": "stdout",
          "text": [
            "[ 1  8 27]\n"
          ]
        }
      ]
    },
    {
      "cell_type": "markdown",
      "source": [
        "Arrays can also be multiplied by a scalar value or scalar values can be added to arrays."
      ],
      "metadata": {
        "id": "Op4fz-hT6Dmb"
      }
    },
    {
      "cell_type": "code",
      "source": [
        "print(a * 7)\n",
        "print(a + 7)\n"
      ],
      "metadata": {
        "id": "vaCPsJhn6N9B",
        "colab": {
          "base_uri": "https://localhost:8080/"
        },
        "outputId": "545a9254-07ef-47c3-fa87-972e72c265f8"
      },
      "execution_count": null,
      "outputs": [
        {
          "output_type": "stream",
          "name": "stdout",
          "text": [
            "[ 7 14 21]\n",
            "[ 8  9 10]\n"
          ]
        }
      ]
    },
    {
      "cell_type": "markdown",
      "source": [
        "The number of elements in a 1D array is called the shape of the array. More generally, the array shape describes the number of elements in each dimension. The ability to stretch or replicate an array along specific dimenstions is called broadcasting. In the above example, the scalar multiplier was broadcasted to an array of shape (3,)."
      ],
      "metadata": {
        "id": "d4khH8Le4sbz"
      }
    },
    {
      "cell_type": "code",
      "source": [
        "print(a.shape)\n",
        "matrix = np.array([[1, 2, 3], [4, 5, 6]])\n",
        "print(matrix.shape)"
      ],
      "metadata": {
        "id": "fs7f-Ipi6iuP",
        "colab": {
          "base_uri": "https://localhost:8080/"
        },
        "outputId": "5bd5d304-aa74-436e-f4d6-cf49631a012a"
      },
      "execution_count": null,
      "outputs": [
        {
          "output_type": "stream",
          "name": "stdout",
          "text": [
            "(3,)\n",
            "(2, 3)\n"
          ]
        }
      ]
    },
    {
      "cell_type": "markdown",
      "source": [
        "Numpy supports linear algebra calculations. E.g. the dot product evaluation."
      ],
      "metadata": {
        "id": "tzeMiesS7aZF"
      }
    },
    {
      "cell_type": "code",
      "source": [
        "a = np.array([1, 2, 3])\n",
        "b = np.array([1, 2, 3])\n",
        "print(np.dot(a, b))"
      ],
      "metadata": {
        "id": "pqnGDYLX7int",
        "colab": {
          "base_uri": "https://localhost:8080/"
        },
        "outputId": "0e1520c1-79d0-4795-e40f-72e292bfed0d"
      },
      "execution_count": null,
      "outputs": [
        {
          "output_type": "stream",
          "name": "stdout",
          "text": [
            "14\n"
          ]
        }
      ]
    },
    {
      "cell_type": "markdown",
      "source": [
        "Or matrix multiplication:"
      ],
      "metadata": {
        "id": "jQR4ppZ77y5C"
      }
    },
    {
      "cell_type": "code",
      "source": [
        "M = np.array([[1, 2, 3], [1, 2, 3]])\n",
        "print(np.dot(M, a))"
      ],
      "metadata": {
        "id": "jth8kxwt73db",
        "colab": {
          "base_uri": "https://localhost:8080/"
        },
        "outputId": "3564601d-818f-47e9-db28-a5eef17f4d10"
      },
      "execution_count": null,
      "outputs": [
        {
          "output_type": "stream",
          "name": "stdout",
          "text": [
            "[14 14]\n"
          ]
        }
      ]
    },
    {
      "cell_type": "markdown",
      "source": [
        "An example how to solve a system of linear equations:"
      ],
      "metadata": {
        "id": "5qw0pse36_ml"
      }
    },
    {
      "cell_type": "code",
      "execution_count": null,
      "metadata": {
        "id": "FNCXo0xx11qX",
        "colab": {
          "base_uri": "https://localhost:8080/"
        },
        "outputId": "0ec33ee4-d909-42be-946c-e8e7122cfe5c"
      },
      "outputs": [
        {
          "output_type": "stream",
          "name": "stdout",
          "text": [
            "Solution:\n",
            "x = 1.0\n",
            "y = 2.0\n"
          ]
        }
      ],
      "source": [
        "# prompt: An example how to solve a system of linear equations using numpy.\n",
        "\n",
        "import numpy as np\n",
        "\n",
        "# Example system of equations:\n",
        "# 2x + 3y = 8\n",
        "# x - y = -1\n",
        "\n",
        "# Coefficient matrix\n",
        "A = np.array([[2, 3], [1, -1]])\n",
        "\n",
        "# Constant vector\n",
        "b = np.array([8, -1])\n",
        "\n",
        "# Solve for x and y\n",
        "x = np.linalg.solve(A, b)\n",
        "\n",
        "# Print the solution\n",
        "print(\"Solution:\")\n",
        "print(\"x =\", x[0])\n",
        "print(\"y =\", x[1])\n"
      ]
    }
  ]
}